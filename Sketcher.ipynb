{
  "nbformat": 4,
  "nbformat_minor": 0,
  "metadata": {
    "colab": {
      "name": "Sketcher.ipynb",
      "provenance": [],
      "collapsed_sections": [],
      "toc_visible": true,
      "include_colab_link": true
    },
    "kernelspec": {
      "display_name": "Python 3",
      "language": "python",
      "name": "python3"
    },
    "language_info": {
      "codemirror_mode": {
        "name": "ipython",
        "version": 3
      },
      "file_extension": ".py",
      "mimetype": "text/x-python",
      "name": "python",
      "nbconvert_exporter": "python",
      "pygments_lexer": "ipython3",
      "version": "3.8.5"
    },
    "accelerator": "GPU"
  },
  "cells": [
    {
      "cell_type": "markdown",
      "metadata": {
        "id": "view-in-github",
        "colab_type": "text"
      },
      "source": [
        "<a href=\"https://colab.research.google.com/github/sreenithi/QuickDraw-CNN/blob/main/Sketcher.ipynb\" target=\"_parent\"><img src=\"https://colab.research.google.com/assets/colab-badge.svg\" alt=\"Open In Colab\"/></a>"
      ]
    },
    {
      "cell_type": "markdown",
      "metadata": {
        "id": "6H3ATAdp_URp"
      },
      "source": [
        "# QuickDraw-CNN\n",
        "## Get the Class names "
      ]
    },
    {
      "cell_type": "markdown",
      "metadata": {
        "id": "zlx6-LFL_jbi"
      },
      "source": [
        "This file contains a subset of the quick draw classes. I choose around 3 classes from the dataset. "
      ]
    },
    {
      "cell_type": "code",
      "metadata": {
        "id": "XXv-xzU1sd88",
        "outputId": "b497ba47-d7db-48a8-ab01-98fe2bf9aa66",
        "colab": {
          "base_uri": "https://localhost:8080/"
        }
      },
      "source": [
        "# !wget 'https://raw.githubusercontent.com/googlecreativelab/quickdraw-dataset/master/categories.txt'\n",
        "!wget 'https://raw.githubusercontent.com/benjaminjacobreji/quickdraw-cnn-demo/main/fruits.txt'"
      ],
      "execution_count": 1,
      "outputs": [
        {
          "output_type": "stream",
          "text": [
            "--2021-05-20 10:35:22--  https://raw.githubusercontent.com/benjaminjacobreji/quickdraw-cnn-demo/main/fruits.txt\n",
            "Resolving raw.githubusercontent.com (raw.githubusercontent.com)... 185.199.108.133, 185.199.110.133, 185.199.111.133, ...\n",
            "Connecting to raw.githubusercontent.com (raw.githubusercontent.com)|185.199.108.133|:443... connected.\n",
            "HTTP request sent, awaiting response... 200 OK\n",
            "Length: 24 [text/plain]\n",
            "Saving to: ‘fruits.txt’\n",
            "\n",
            "fruits.txt          100%[===================>]      24  --.-KB/s    in 0s      \n",
            "\n",
            "2021-05-20 10:35:22 (1.21 MB/s) - ‘fruits.txt’ saved [24/24]\n",
            "\n"
          ],
          "name": "stdout"
        }
      ]
    },
    {
      "cell_type": "markdown",
      "metadata": {
        "id": "4GL_TdMffD6-"
      },
      "source": [
        "Read the classes names "
      ]
    },
    {
      "cell_type": "code",
      "metadata": {
        "id": "eP-OxOx5sy0b"
      },
      "source": [
        "f = open(\"fruits.txt\",\"r\")\n",
        "# And for reading use\n",
        "classes = f.readlines()\n",
        "f.close()"
      ],
      "execution_count": 2,
      "outputs": []
    },
    {
      "cell_type": "code",
      "metadata": {
        "id": "lTE6D3uxtMc5",
        "outputId": "6522a698-a177-4a83-96c6-fcdd6cb6c306",
        "colab": {
          "base_uri": "https://localhost:8080/"
        }
      },
      "source": [
        "classes = [c.replace('\\n','').replace(' ','_') for c in classes]\n",
        "for item in classes:\n",
        "    print(item)"
      ],
      "execution_count": 3,
      "outputs": [
        {
          "output_type": "stream",
          "text": [
            "apple\n",
            "banana\n",
            "strawberry\n"
          ],
          "name": "stdout"
        }
      ]
    },
    {
      "cell_type": "markdown",
      "metadata": {
        "id": "5NDfBHVjACAt"
      },
      "source": [
        "# Download the Dataset "
      ]
    },
    {
      "cell_type": "markdown",
      "metadata": {
        "id": "7MC_PUS-fKjH"
      },
      "source": [
        "Loop over the classes and download the currospondent data"
      ]
    },
    {
      "cell_type": "code",
      "metadata": {
        "id": "rdSUnpL0u22Q"
      },
      "source": [
        "!mkdir data"
      ],
      "execution_count": 4,
      "outputs": []
    },
    {
      "cell_type": "code",
      "metadata": {
        "id": "22DPhL5FtWcQ"
      },
      "source": [
        "import urllib.request\n",
        "def download():\n",
        "  \n",
        "  base = 'https://storage.googleapis.com/quickdraw_dataset/full/numpy_bitmap/'\n",
        "  for c in classes:\n",
        "    cls_url = c.replace('_', '%20')\n",
        "    path = base+cls_url+'.npy'\n",
        "    print(path)\n",
        "    urllib.request.urlretrieve(path, 'data/'+c+'.npy')"
      ],
      "execution_count": 5,
      "outputs": []
    },
    {
      "cell_type": "code",
      "metadata": {
        "id": "O5jF6TXXu-Bu",
        "outputId": "bbd3db58-a021-46ca-a407-14c8c1fb7b31",
        "colab": {
          "base_uri": "https://localhost:8080/"
        }
      },
      "source": [
        "download() "
      ],
      "execution_count": 6,
      "outputs": [
        {
          "output_type": "stream",
          "text": [
            "https://storage.googleapis.com/quickdraw_dataset/full/numpy_bitmap/apple.npy\n",
            "https://storage.googleapis.com/quickdraw_dataset/full/numpy_bitmap/banana.npy\n",
            "https://storage.googleapis.com/quickdraw_dataset/full/numpy_bitmap/strawberry.npy\n"
          ],
          "name": "stdout"
        }
      ]
    },
    {
      "cell_type": "markdown",
      "metadata": {
        "id": "uEdnbBVXAI-X"
      },
      "source": [
        "# Imports "
      ]
    },
    {
      "cell_type": "code",
      "metadata": {
        "id": "J2FYrPgOKh6t"
      },
      "source": [
        "import os\n",
        "import glob\n",
        "import numpy as np\n",
        "from tensorflow.keras import layers\n",
        "from tensorflow import keras \n",
        "import tensorflow as tf"
      ],
      "execution_count": 7,
      "outputs": []
    },
    {
      "cell_type": "markdown",
      "metadata": {
        "id": "6o30ipBPAQ5Y"
      },
      "source": [
        "# Load the Data "
      ]
    },
    {
      "cell_type": "markdown",
      "metadata": {
        "id": "UBq3GXEKAYuO"
      },
      "source": [
        "Each class contains different number samples of arrays stored as .npy format. Since we have some memory limitations we only load 5000 images per class.  "
      ]
    },
    {
      "cell_type": "code",
      "metadata": {
        "id": "6HEIgQNHYQnl"
      },
      "source": [
        "def load_data(root, vfold_ratio=0.2, max_items_per_class= 5000 ):\n",
        "    all_files = glob.glob(os.path.join(root, '*.npy'))\n",
        "\n",
        "    #initialize variables \n",
        "    x = np.empty([0, 784])\n",
        "    y = np.empty([0])\n",
        "    class_names = []\n",
        "\n",
        "    #load each data file \n",
        "    for idx, file in enumerate(all_files):\n",
        "        data = np.load(file)\n",
        "        data = data[0: max_items_per_class, :]\n",
        "        labels = np.full(data.shape[0], idx)\n",
        "\n",
        "        x = np.concatenate((x, data), axis=0)\n",
        "        y = np.append(y, labels)\n",
        "\n",
        "        class_name, ext = os.path.splitext(os.path.basename(file))\n",
        "        class_names.append(class_name)\n",
        "\n",
        "    data = None\n",
        "    labels = None\n",
        "    \n",
        "    #randomize the dataset \n",
        "    permutation = np.random.permutation(y.shape[0])\n",
        "    x = x[permutation, :]\n",
        "    y = y[permutation]\n",
        "\n",
        "    #separate into training and testing \n",
        "    vfold_size = int(x.shape[0]/100*(vfold_ratio*100))\n",
        "\n",
        "    x_test = x[0:vfold_size, :]\n",
        "    y_test = y[0:vfold_size]\n",
        "\n",
        "    x_train = x[vfold_size:x.shape[0], :]\n",
        "    y_train = y[vfold_size:y.shape[0]]\n",
        "    return x_train, y_train, x_test, y_test, class_names"
      ],
      "execution_count": 16,
      "outputs": []
    },
    {
      "cell_type": "code",
      "metadata": {
        "id": "K6uUjN-WL2Y9"
      },
      "source": [
        "x_train, y_train, x_test, y_test, class_names = load_data('data')\n",
        "num_classes = len(class_names)\n",
        "image_size = 28"
      ],
      "execution_count": 17,
      "outputs": []
    },
    {
      "cell_type": "code",
      "metadata": {
        "id": "p6br8Q7-YBZE",
        "outputId": "ac5f7fee-09b1-44af-ab7b-6d10dca1ff12",
        "colab": {
          "base_uri": "https://localhost:8080/"
        }
      },
      "source": [
        "print(class_names)"
      ],
      "execution_count": 22,
      "outputs": [
        {
          "output_type": "stream",
          "text": [
            "['banana', 'apple', 'strawberry']\n"
          ],
          "name": "stdout"
        }
      ]
    },
    {
      "cell_type": "code",
      "metadata": {
        "id": "ALMKsPbMXhwE",
        "outputId": "db7a7798-a4fb-47a0-8703-af97b5ce5286",
        "colab": {
          "base_uri": "https://localhost:8080/"
        }
      },
      "source": [
        "images = dict()\n",
        "count = 0\n",
        "for i in range(len(x_train)):\n",
        "    if images.get(y_train[i]) is None:\n",
        "        images[y_train[i]] = [x_train[i]]\n",
        "        count += 1\n",
        "    elif len(images.get(y_train[i])) < 3:\n",
        "        images[y_train[i]].append(x_train[i])\n",
        "        count += 1\n",
        "    if count == 9:\n",
        "        break"
      ],
      "execution_count": 21,
      "outputs": [
        {
          "output_type": "stream",
          "text": [
            "1.0 : 3\n",
            "0.0 : 3\n",
            "2.0 : 3\n"
          ],
          "name": "stdout"
        }
      ]
    },
    {
      "cell_type": "code",
      "metadata": {
        "id": "VhGEDS0SMgLK",
        "outputId": "4c970dbe-3574-4bc5-96e3-6d98cb67e0e1",
        "colab": {
          "base_uri": "https://localhost:8080/"
        }
      },
      "source": [
        "print(len(x_train))"
      ],
      "execution_count": 32,
      "outputs": [
        {
          "output_type": "stream",
          "text": [
            "12000\n"
          ],
          "name": "stdout"
        }
      ]
    },
    {
      "cell_type": "markdown",
      "metadata": {
        "id": "rNZmQvBWBBHE"
      },
      "source": [
        "Show some random data "
      ]
    },
    {
      "cell_type": "code",
      "metadata": {
        "id": "KfpDaHRkyMQC",
        "outputId": "72a12e29-7599-4314-a520-0ffcf85c1826",
        "colab": {
          "base_uri": "https://localhost:8080/",
          "height": 444
        }
      },
      "source": [
        "import matplotlib.pyplot as plt\n",
        "from random import randint\n",
        "%matplotlib inline\n",
        "\n",
        "fig, ax = plt.subplots(3,3, figsize=(8, 7), sharey=True, sharex=True)\n",
        "\n",
        "for i in range(3):\n",
        "    per_class_images = images.get(float(i))\n",
        "    for j in range(3):\n",
        "        ax[i,j].set_title(class_names[i])\n",
        "        # col_name = n_cols[i*3+j]\n",
        "        ax[i,j].imshow(per_class_images[j].reshape(28,28))\n",
        "\n",
        "plt.show()\n",
        "\n",
        "# idx = randint(0, len(x_train))\n",
        "# plt.imshow(x_train[idx].reshape(28,28)) \n",
        "# print(class_names[int(y_train[idx].item())])"
      ],
      "execution_count": 34,
      "outputs": [
        {
          "output_type": "display_data",
          "data": {
            "image/png": "[encoded data removed]",
            "text/plain": [
              "<Figure size 576x504 with 9 Axes>"
            ]
          },
          "metadata": {
            "tags": [],
            "needs_background": "light"
          }
        }
      ]
    },
    {
      "cell_type": "markdown",
      "metadata": {
        "id": "n8InHz5NBFrV"
      },
      "source": [
        "# Preprocess the Data "
      ]
    },
    {
      "cell_type": "code",
      "metadata": {
        "id": "p2GHUq7D2r9e"
      },
      "source": [
        "# Reshape and normalize\n",
        "x_train = x_train.reshape(x_train.shape[0], image_size, image_size, 1).astype('float32')\n",
        "x_test = x_test.reshape(x_test.shape[0], image_size, image_size, 1).astype('float32')\n",
        "\n",
        "x_train /= 255.0\n",
        "x_test /= 255.0\n",
        "\n",
        "# Convert class vectors to class matrices\n",
        "y_train = keras.utils.to_categorical(y_train, num_classes)\n",
        "y_test = keras.utils.to_categorical(y_test, num_classes)"
      ],
      "execution_count": 36,
      "outputs": []
    },
    {
      "cell_type": "markdown",
      "metadata": {
        "id": "rL6XAb4hBMSc"
      },
      "source": [
        "# The Model "
      ]
    },
    {
      "cell_type": "markdown",
      "metadata": {
        "id": "Gi1lbLE3et4g"
      },
      "source": [
        "![Schematic-representation-of-the-architecture-of-our-convolutional-neural-network-The (1).png](data:image/png;base64,iVBORw0KGgoAAAANSUhEUgAAA1IAAAHKCAMAAAA+UooyAAAABGdBTUEAALGPC/xhBQAAAAFzUkdCAK7OHOkAAAMAUExURQAAAAAAAAAAAAAAAAAAAAAAAAsQEhstQAMFCQEBADNSdAAAADthkwAAAQAAAAAAAAAAACQ8WiQ9WwAAACU9WgAAAAAAAAAAADBPcgAAAAAAAAAAAAAAAAAAAAAAAAAAACQ8WQAAAAAAAAAAAAQEADhciwAAAAAAAAAAAAAAAAAAAAAAACQ8WgkeaDBPdwAAACQ8Wjhciz9pngAAAP//AAAAACM7WTtilCQ+XLO9HgAAACY/XzhciyQ8WgAAADdbiiQ8WgAAACQ8WjhciwAAAgAAAAAAAAAAACM7WQAAACY+WidAXzdbijlfjxcXASQ8WiQ9WjhciyQ8WjhcizhcizhciyQ8Wkp+uwAAAEp+uyQ8WiQ8WwAAAAAAAAAAAAAAAD5onEp+uwAAACQ8WiQ8WzpgkSQ8WSQ8Wkp+u0p+uwAAAAAAAAAAAAAAACU9Wkp+uyQ8WEp+uiQ8WkNzrcawJWOKltbRFtzUFnpXTBEcK9WyJSQ8Wjhbg+DKHsurMjhci6SvMMCRL0hznkl9ujVYhDhci1tuRNjXEsnOGIaUNAwUH7SiKo2aL3hlUyQ8WkZtjVdVVgYKEOToCzhcizQ3VcHHCgAAACQ8Wjhci3oUKIUYLY8fMHgWMXpXWrxuSaQ1Pn4UKHoeQnlZZLdPSXMZOYdaYaZPTKNBSZoqNHMSJrZuRZFdYLVnRbpzSXQVMH0XL48hO6xDSalAPpQoOKI/OncaPopbTa9pQ8qHWqJYNsZ8Wr1nSo0nQ5wrPbRfRrJiW45kS7x6S86KZH1YTa1PTqhoQZtkQ+nTFn5PV6NlP4UdNp9gXa9wRr1lVqVUWa1PQ7hYUL5fS757VHJOVZszQ69gPKNsc9Kyuq1YPtbJGuPALapfPcWToJ0zNYAnRbBxWMyhq6dOOa9hSr9uV4I2UIIgRK1XUrNYQuLIyG1IZZpWXb55eMBtXI82UqFuV7akMLNwgGkQJm9IWNPCxsCHT+PPF/jy8ta/JbNxa+jX2rxzeF10oNKdWcGJjkVgim1qfl4yjY4AAACWdFJOUwDICuH98AYDAhAJLARAOfWU+5r5FYKw5g/q1ahZcWFpTowWoB3I2gh4SE647ygbvqVqIa1AIswrLr/CPLJj0NjhFNdoNN1TIFIaI0aHLhfEkbu55Ugcr7gyk+paJCgwhxWnJvSIZm55N3vNmXybMlqAzyxR90DI4fz+/NKq8/53yvl3aP77rpF1cOT8tfR25u+wOcP5JVjZpHMAACAASURBVHgB7L0NfFTlmTZ+Mp9nkkxmyCSZTD5mSCYmmSSbZA2gmzRphk0mTNL+SVMXMZ+Y5A2YTJBiXz+Wtuu+arv/rfL+393fHkRQQQVUVESLbhWKVUQFoX5CbVEoCiIKpau22pW/73U/58xnJpBJJslkPA+amTlzPu9zrrnu+3ru5344Tm6yBWQLyBaQLSBbQLaAbAHZArIFZAvIFpAtIFtAtoBsAdkCsgVkC8gWkC0gW0C2gGwB2QKyBWQLyBaQLSBbQLaAbAHZArIFZAvIFpAtIFtAtoBsAdkCsgVkC8gWkC0gW0C2gGwB2QKyBWQLyBaQLSBbQLaAbAHZArIFZAvIFpAtIFtAtoBsAdkCsgWibwFdvlMT/b3Ke5Qt8E21gK44w67nx371Gp1i7CvLa8oW+OZZoKlaMBRHAKmcvJ6ub56V5CuWLTBmC0QKqQzBlBsBAsd8HvKKsgXixAIMUtK1aAu6C7S+63LOLRLfu5OaCETupAK8VAkGGVI+G8lvZAuMsIDEUu7hBFvKUF1hXZ6b43Tp2bam9ISsahvFTQXZhRVJHNeUUVjqdlRbBJUywdg0Yj/yAtkCsgWYBSSWmpsgNCpNKkEwDBdxBRWqugSDIAjqdIiBvYOCOYXjurIEZZIVawgqVcJi2XqyBWQLhLeAxFKAlGCoNlYbBGUDICWoTIPZdSahsJfjOiVI1QnK7hRjo2BKGC4GlclNtoBsgXAW8LOUye7mgSy1jSBlqkriF9cJBk8QpBo4nsVSsj4RzpTyMtkCZAE/S1n0+DisEiGlduDDkMlkDIGULE+Q0eQmW2B0C/hZyoKAiesxSZCi7l+PQZUtQ2p028nfyBYIY4EAlhoBqXSDyu6HFOSJBllED2NCeZFsgUALBLIUiMnHUg6e09pV5Pg5qwWznuNLlBKk1NbA7eX3sgVkCwRZYBSWUmV06koKBYIPj4QJo1ufoGKQyhYMeQVuqRM4aE/yB9kCsgVggQCWInnCy1KQyu11KqGO+nTTTYJhUGlSq8jxy1MJ6roKvJGbbAHZAuEsUFDNkvaaoJ4TTvIEgyiiF6JPV1DmaLGsuxQdvGp7lUqJJAp9NT5U443cZAvIFghnAYXVmNfAcwqb3aPD9yV5PSnUL6W25VVX213iSKokj92Y49Z7bLRGg2eop4TeyE22gGyBsBZQMNxodaz/lteAlwhS+qKkJB9wtM7AQVIKuac3rCHlhbIFRrMAg9RoX8rLZQvIFojUAgxSMhVFajZ5fdkCo1nAOdyYkCRDajTzyMtlC0RsAWenU0ZUxFaTN5AtIFtAtoBsAdkCsgVkC8gWkC0gW0C2gGwB2QKyBWQLyBaQLSBbQLaAbIG4twDvnutLRIr7i5UvULbApFsgv7iqtKdg/IdRlOTKiBy/+eQtp98CGodjAgAYcf58j6GxupSGzI+zuUtVcs30cdpO3iwmLKCrysqJ4onkF5odnb0T4Bl3qSBDKoo3RN7VlFtAV6HOjeJBHebCiQ2ClyEVxbsh72o6LABI2aTjSml52vDpeeGXhp4yIHXRFXnvgdjGfPDxwkCKRgajhEXwemyZ/Ee2QOxZgCCFQbkpvZoulyvFyWmSrDmLxcG4zq6GFGkYobPbYdWjsSk4FL0pKUnOwEtxd+v13fD2dA02i9mhd/u+y+9qaPCPROT4phSdLiUnJwlMxnda2XB5Z46ejU8s6k3Rd+dzPkjpklIauvANP9faTfvTudh6vHtxw2KaAkRusgVi0wIiS6UoK3IG1YKlx23NMgiNrCyY3l5ntmQZu/D4unsaLUqVYLIU4xlv8gyalYVGf8SjdVWZUWfCmMI1ZFHFCcHnSQbsgl29okedm25WC4VWBafJFdJpYXdjdS9e8otRQsk8vNgLqcXGQrOyzuPmNDahh9ZLakzAIYtKMgqzlBkT0D9oX3KTLTB5FhBZSm8xZVXZeiyG7Cy7Nc9ApYy4iqyh4uIKVZWOUxQbMqwOT6HSs1jLuYeFUpvNrs72CoW8y2yxe/JKVdVJbuuQ2pLu8T7wvH8X4gXojIKyLt06rFamBEAqAWylyzMN9njshen5ojyRVGGyW3NL1ek6rRdShbRed2NWcU56lVwKcPKeCHnPE7SAyFJ6i8Ho5hRGkyEvn9Nl0OwAXEkKKElfqM7nOisKgRKtx+DA3xxDBljFnW2wSt5X06DB4+T43gyqg5mkLAw4oZIG7MLRiF2ITWEUskqAymzBptH6WSqJ4x3qQdQs0zlSRJYq6jEZsVF3giXFx1IEKRydTq3Au8OAY8lvZQvEhgUkllLX0VNaYkhAjKRNVzNXiyQBd7VJzyUlVDThW5sAuV03ZLBqtFqNVchTiFfgUg9SYMXnqKrdXIOyUAzExO/YLhIM3vmxdUaVDWIDXyx4ijS5KsnxA1QU6SrxkLwIqc4KS4pWqy0yClZFIEsBUkNOUa7wHkB+lS0QWxaQWEqdgNPi9YZqvGg8DFK8LslVnN5oKOEKMiwliqKCYVMJCKLakJ2OZjdlSJ5fsdrO+KrTVKgPgZRvFxKhgaVcdPk5hmFdEEvpsr26owgpfaFliI5SajLqAiGFU1FX2AokMNOu5CZbIMYs4GWpBDz1vMNQgdODhwfK0DpKLcrGLIOhhNcWm5T29Az1EJhsbp1JmVWI1ggXkTWjYYghpmAEpHy7QIF01sBSDFIuS1W+X54ASzl9Ur4IKYfZ0EgHKWzMDYYU3zmUZSns8WuK4o7lv7IFYsYCPpYiSAWyVO+gesjq6K4GNRVkZFXUZQ3m9eKsmwYttu7FaA1uCSc9asRQaF2mwaRgluoSd5Fg8kLKy1IEKcgOeeTCdStRe1ZXarGxnUgiul5Z6GJHWawjF5PWg+LHRHe+K3fQYJSdP9Fc8t/Ys0AwS6nJ8RNZymWuIP+qFJDSK4eakho62cnnQ5cIvgqruoLFUlZVhjMYUjneXXghFchSXInKjq4sbY4akFLkqRhuOIXIUkkJFt90vg4hG/vnc9QipHBwhzpLYsjgM5E/yRaIAQsEshTn8MdSkMahNmhcSsRSKVlZHqstx9GE8wW5ZNDTrmjwPtVzlYZ0YCMlwVCM8syB8gQgJe7CC6lAluIa1FkOrigniyqk8yWmrBINl2+ziSI6VmSzzudDMuxWF2I9V5YASGn0JO9DHsQB5SZbICYtEMRSouMnshS8tqr04UaLuoRHd5LBorY0JlBR84JsU5093VhaTRN1UONtaktp3lCdYdgdAinfLryQCmIpd7aqbsieVW2mSQd0RlNjdk+p2Sj1SzUkYDLt9OGK0rlcfrYpi60HSCnysuweY51XyxBPQP4rWyCWLKArVcKRW6ysplgqxZyBc9PmmiFvax0ZZnO1tTgjhe8tNVsbGvQ9SjWwwTcVV1ss5lKPt6uXU7gy1Gp1hZVoa3Fhgl9ED9iFeMmKdAOTJ0qUw+jJ6s5Wq5UefYUdUOTcnkYDdIcmZ7a6Fx/57rxBgLgKIOaT7FgvPaXUXoAzzG40myvkIVWiPeW/sWgBvktfBN28m+UXFXXT48zpWJaeVud2O7VFOk1RsamYcFKUrrKxV6fb7dYVSeoEvtDqkpLcTgYlTRJLA6S9oIm7UOjYV/jMuxuYx6ZroCw9Xre4163QOnVsT0Wd+rn5Co53ukXpQYGj5LMteV031uPZerwun47N9i7/kS0QmxbwQwNPuXiKgYsQNvUIRAsKuHwu8XEf/4UEHyD4OMGfxn8MeUvZAjFuAT7HrDRarekVarhecpMtIFtgwhbQWTMGzRZlRnHThHcl70C2gGwBWIAv6HY49DJFyQ+DbAHZArIFZAvIFpAtIFtAtoBsAdkCsgVkC8gWkC0gW0C2gGwB2QKyBWQLyBaQLSBbQLZArFlAm6xJTGtunmj+Uqxdlnw+sgWmwQL/8W9ply9vaZndsSK1NXMaji8fUrZAnFlgzs9aFrUtXFXfXla/qjzOrk2+HNkC02CBOTf8dE39qlXzFla29s+ehuPLh5QtEGcWmHPDD/+/1AULWpY3NzcvbYmzi5MvR7bA1Ftgzjt//Flqs3jclalpU38C8hFlC8SXBea889z1P61NZBeVODAQXxcnX41sgam3wJx37vvj9ZUSTS1vld5M/XnIR5QtECcWmPOXj+644f9dkcwuJ3OgVh7/Hic3Vr6M6bLAnHc++ujn11cuF49fI9PUdN0I+bjxYgGC1H033L5ULIuUuGJApql4ubXydUyPBQhSoKn+GvHwl/evnJ7zkI8qWyBOLDDnL//FaGq1KPpxKzrEsCpOLk++DNkCU20BxlL3fXb9TyWaWuntpAo8EV6Led/G6RE600vzqEBtuKZNcnVebLfakowq7yRy4fYhL5MtEFsWYJCC6Hf7Uqmbt3/AW23We6LaAutwtj3dIdaZ9S4d62tSllDI5sUJ2IDXsqR3PiXLUtEdsDzcW12eIFhDTyncivIy2QIxYQHR8dv6x+t/2iLyRbm3k8p7epqSQYNKEExqmo838tZdOBJSDTk54ow8JiHLO//BaHvGrAliJerRVpCXyxaIKQuILHXfoRtuXy3SFD8QLPppSrJUgjmrTmlqvBihhL2wcJDKVqltBOCu0sGL4pRBSh7JFda28sJYtIAYS9239SvQlPjghtBUUp0gJOR0J5UYK0L9N3Y9zotMcC1BSuFU0OriS7agzmUbK/LDu3S6/CL2Pf74WGruYkdDEtuJ9yvxtairoZNNh8A+Fvm3DF5N/iRbYGoswBy/j+47BJpaIdKUtnZpwKGLigWhkckDOjaPh7vElm7LoZlD+KSe3K6G9OzsvBRMAZfe48Iyrb7HQ9O0KfTW9FwrlmMqUub4OT3ZNKtbfnp2nrM7vVAwVfTYnFyBp8cKkBTprZ5iq54h2l2cnjI315495JLAJrFUU3HpoHKwOq8Lh8qjQ/H6nnQcgNcbqwcr7C7sRmfrcXQbq3LJp5SbbIHpsoDEUncc+uqGn0oCRXOqlEtB5+SsEASjjxu0+gylQVBbqoEEbY6gLh1ElCVUp3BWg1CNktFFdsFg4zDrdaEa88ZlpUPqEyHVWydYAICkQsHcZcUmaIOLOT3bqiAvyyKYLIV5wBzXYBaqKwz4ulGaEVWElDOPlgmCyl6Qg42wZtEQO5QLJIqmzOW5pgQhoRpn0ztdtpSPK1sAFkCOHxpY6osf/4sEqeTafkYYzD69FqgDPkuRF2hOUCO4yuF5l0mlUtUlGARVnqJJKTQ6MJVbo1Co53RVJkE9qFQJhrwiCVKdg4IZkOqqE5TdjgrsszFhqJPTq4WKgqIhg2CoazQJJpoNuLtRUKmU1RaVgJlSqTFI8fnZyh59itUsKPXOOhwdhFcoZKVwSdhvbooLTNjANVULOK4lg5ApN9kC02UBSZ6479AXX93QISKJb06d7T0d3mEQLCXeT5j3WpWxOL/LrhKqCjiXSTCkF7hzTUJ1l9auMnmAMrVQquOsaqGwJN/tUZOeJ7JUAKQaipwZgsGTr9PyBCl3iRIQyS+wWQQlDkSQqkrKLwF4xMOKLKVt0JNrly2ocrg8k2pIw7nUqgwFl6tWDeOsPQZMPQxIqQpdvV1F3tOVX2ULTIMF5ryD7ImP7tt66NBXP/7p34gnoK1d7avs0mUQzD5I5WcJFhAE120RBpMIUhlw9jrNNNV1Dj7k42k3eDhttspkhKCnSKC1R0KK47IFA8kTDFIFgGk24iZtBtMsAKlG0FlRtWCmiClAntA63XONKiGHS1HTAY0mSByaKpUhvbOz0wNkEaTUVvFXgW0p/5EtMB0WkFjq60OHzj3/U28vb3m/b8h8AUIn8dkGBLoZ73DcXERGeoJUdj5m2E5Q4QmH51eo1yXAMeOceLTJV9QAWp5RIQXMMUh1AV8eAIE3mkxGxlJZUBbBesGQUqTYhjMyBgVASlehsuTA/WtsoEOpzFlZWY0qIYMghbOSm2yB6bWApPhtOnT2489+1irlzEL0k+Iqzm0WBI/XlZoLSIFCuLmIYAIgRaShGFIZbA6zUKHgFBU+SMEdk+QJfywFRZBYygupJigaBCnQjilvNEjxCluhYKmrUwJSvMamEoasSlWGhtOWCqbCOrTBBOb4yZCa3qdJPjosILHU1jsOffzxT25e3SwaJbNjQHL9dNkqIYHNts0pNE4EScQD3UqhrjuYpTQulTBsNMDv47hSsdtJATaxSpByJzB5IqVQUDJIqa1eSOUPC6Z0fCAfDt4gHL8wLKUFMLOsKSlIToLjCd2wrsIAaZHj4C16Gqh158ssJd47+e80W0CKpUjy++z5G26XqlBwaZVSGi2kcsE03KXV6kryOhWlKkOeU6vrgZ/V5IcUsRTXCTHPojIDMFyPQVXRq9XmMACKLAU6MRRr52YbJEjhg5YX5QmbWjW4WKsllUKUJ8JBqgSA1XEaD7EUpwMKTVDjcSiPwUTOJ2Z+LJIhNc2Pknx40QJSvxT0iS9AU9f3Xy4uTm7pl2hqbgbE8MIqe7VZncKj+0ldYS9VCxarFiJ6QCxFYje6jeD3od+3UTAN2qvMggk9WiKk4NapzPZqJAsSSxlVqsbs4SRRRIcOrsqyZzeqTNmiiB4GUnyKSijt0rkaGUvxJeikUmWzQxUKhur0YmM1+sbkWEp+qGPBAnP+cjdT/ACpz774Tz9NlbcuF0+PT8pQs95UU0Uv5+yxmPDBpMwt4rRw9bKRqVAwyFiKz6Hc2lyKijTWRuqYVVnsIBB4aZSJ7sii7QYrVEpkCuYgJhIGGwhS1U3akizWjauuasK28CkLQT/a7ADFT7BxTRXQIRLUBhOxFNeLHl2TjR0qp9GgUplMBjii6OpVU6QnN9kC02mBOX95GZDa9PUdh7744pNPQFOSQsG3pEo0xTfZMuqy6qrzFuNh1rmMpdUVRuok4lMS6oqhfufbB4cIDL32wcGMLqxDeUnpGdXV2S5KDXIPVQ+h01brKM0aNHbbSocBM21OxmC1xy2lzWobPFVY25pP2xZU1VGPr9aTkCGqd0XW6lI9fMQKpVlZUVzaSIp+ERzAwk68wYrdudnYuNih5ZzGutICtlD+I1tg+iwgOX6bDkHye+OLe37si6YC+nu5os6kTnKzghvvbiKi4BX54ndF+W4gbNSm6xLTIdgKigLgBl1XI7dwdhaxb5xsBbYy/eELHDmu/KJuPcGUIGUM/p7W0YU5SVouN9kCU2gBsBRo6r5Nm85+AZra/c/Xe/t7uZrYncljboVgchGc5SZbIOYsgNKYH3308n2bEEvB8dsNmhpIFE8yc0VHzJ2teEJ8iVqomxujJyef1jfdAhRLvQyW2nroKEhqN9GU1DfFtfR7+3tjzEgKj8HsGen3xdhZyqfzDbXAnHfg9xFL7T90FJA6+cjvbl8tRURpS2OUpvj8uU3jK4TxDb3J8mVPpQUIUoyl9oOlDpzcffKfb/CWnuVm95dP5anIx5ItEA8WmPPOJmDqZeb4HQBLnTz+45ul0rNcZusCWQOIh5ssX8NUWgCQAkttguO3e/eBA6+dPAmaapWSkRBNyTQ1lTdDPlY8WIBYCg2Q+gKYAqJOHv/L3y2VRD9t62zWdRsPFypfg2yBqbHAnHdOo2Pq5a3EUrtfe23P5oOgKW/pWfRNxajoNzXGkY8iWyByC8x5ZyuR1KbTEqT2bD5+9B//boXk8PGt0uD5yHcsbyFb4JtpAcZSL7/8FLEUSGrP5s0nT352g7f0LLeyUvIBv5nWka9atkDEFpjzOWOp06dP7z4JSG0HpoimvKN6NQPyRB4R21Te4BttAbDUaRIoTu8/uJsQtR009exnP/aWnuXS5GDqG/18yBcfsQXmfL4XiAJJHTx5cs+e7dsJUrvf+N3N3mSktNUR71LeQLbAN9kCcz7ffxqa3+mnDsLx2759y/Ytm08eP/DVS16a8o2Y/yYbKTaune9KNzo0XJPHWMLGv0zLWblLSjCgVG4XsABY6vRTQBSxFDhqy5YtFEy98bvrpRGIybWtctfUBew3GV/xeqvYUoKSV7RWlZCn410GwU6Dxiax8fxo95zXZynzJvHI8bDrOZ+/Cq8Pnt/mk3D7ttx775YnNp888Mnzv7teGi6VWTsQdGPj4aJj/BoKStWsWYaDxn1qbDTwkkcR0smGVJIjZZTBpFSBJzvGzTfdpwdIHdz71OktTzFIvXXvW/du2bxn9/vPYNYBKXOieUXLdJ/kN+z4cxMEQW1GyxsJKcUUQIqvUBeWhLe5DKnwdglcOuelo3s3w+/bfJCR1K633vrF9pPHP3nm+d/d0Cr19w54a/oFbie/nzwLAFKGnhS0Jp5TKMgH4+kFLKUaP0spAuMvhR+ruqaCEQNlWOVtdn0ad5MzcEOqwCOz1IVv/ZzPHz6+/6nNT23evHnP9nt37QKmtvwGLPX8Vy/dXituWp7qTaO98K7kb6NkAUBKmtJO29DTg3m3tCk9PQ2oskvzEoks1ZVjS8HR+CQrm+tLOrCioSTH0cs+FKS4chwphBxNg1Wva8jNS6fqOtrFVoeu25aXnpPPVnO6hkqr8qziB7c+x6XP55KsjYJ6yIqSPXxDcVXpsIfq+KDNdVlzkvQWGVLMGqP/mfPSq8df2Xwa/4AogtS7gNTJTz55/quvbugXx/dqOwbkzqnRLRj9b4ilxAmIaMI8eH8KlK/xFGkDWAoFFSuAA02ed006C3feICosVqAqh6akqtCgUmblJaGQqFGoM6KYvKDu0XGKHiHLCL9SUOeRxOHuseC9oDa6AU99VaHK1DjclU6LBKG0iS+hNTEJJnmBvCMD0x5VGw0ypMjWF2hzXnr4+Mm9m5+C0Mcg9fiut36xhfSJj0FTUoKfLKRfwICT8BVBypOUlNSl0eQKQo+CVYTyKAApH0s1Ye47FybUGxQrarOTUAxjji6UNawq4kpQQ9SCYokqVGHT5QmYCCwLn9QOXpGODwJ9MJTAq8zF5EVWK+YmsmEiMMBO3SgYrDbUVTQps4YKMJuYMj0HcxpVNGFqMArwLAKKm8qO34Xv+ZzPHz1+fO/BzZu3AFK7dj3+5JNP/gKeH7HU765fIdIUhvdKNf0uvC/52+hYAJBi85HUORQhkPLFUvwQ5jnhOQfN5wXJm6neOZihy5rkMA5pmjIE1VBKtzWLapUCUoIlN0lfSoQHSMGpTEqpYlXbOisEJfxHfRYmMsJqqgxHkjXb6gSULMVJBZpiHKOIU9gxUQrH5RqExpwUYjUZUhe+zcRSx09u3gtMAVJPEqTEYOpjYOrmDtGLTvOWnr3wvuRvo2MBQApTQaKIbk4opHwsxeZk7cV8XupivrsETe/k7YIpD9q3zsk7LKzCr9ajUtkVBCm4fBzNd8IgRS6fFUq8jsN8fCiLrWtIEAqbwHs0SZ6W6ieK8oQG00TYdDpnOps0rFSlLtZyinTZ8bvYTZ7z0qMIpk5CnUCnFCC1bt2T7967+bVPnnnmq/M+mvKXnr3Y7uTvo2ABQMqUMDw8PNRdNBpLcU5MheLCpHjKlPwqA1qhA5N7sWm9cAJATxUpDuCtBAYpG6CGiSVFSBVDwsO0RXYdeZKWhIqKBPhzSSkmIQG1tanxIqQAMlNWRUU1Sm8buQIwF83WB16UWYpZadQ/YKlHjh8/DpLa8sSuB4Gox9eBpl478AxYiqIpMRG93D/V6Kh7kr+IlgUAKXUu8+a8kIJKERxLcUXFKsHoUqoqipzDSrRqvSJBpRanDOcxwTibzwSQGtQRSwVDCvhyKImlXBQ9KZX4r7qgAZCSUo0YpBBpwW80076VhbmcDhOEAVK8rPhd9C6DpQCp32/e/BuC1Lq79oGm3vrFngPEUhD9fir1TdV4K6RfdIfyChO2AIMU2wvxSDoUvx4JUr5YiuMaMJ8r+KkYc1OKjh8nTT6JDQEVxlI20ipCIaViLMUg5cB8KDkO2rxB0xkEKdI+tEBRcYmD/kEQBHMRYFGVVGapC99hYqmnj/+WELWFWOqudfuefHCL6PkRTdWKNJUZqzX9Lnx1M/NbP6S4EkHIcHMl8L1CWIpzZqsMmJqc5vOS2rCJzbWV4tLqlUKjAxI5ZgvvESEFX8/v+PlYCrMWZbEdoOu3APMwg8yKXCnk+BGkeLvJkK6lnevwNxtahZZLysAMSN4DXvBVkZJjczkacOBvWiOW+tXx4x9u/sOWex98ct1dd91F0dR2BFMfM5ryjuqVq1BM3ZMRAKkUhDn2HiBKhFQAS2mR6weRXOE/LSvWzUgfqqsqys8WhKy8HsxiBEHvAiyVbxdUCR6rzVhqLaL5wZRDPVWFNo4vVZmq84rdLrVgHrZZPdl2zJJiRZeXvacaBx0LpHhHdpZZbW6sG0oZmYGr6e0G7V2wKbq6IZPMzEYs9cjbv93zmyee+MUuBqm7KJg6SfrEM6Cp6xPF65Jpauru71xERWJXL4hGJYCNEpQSS+XpOG/aLKa6k+bzks7MOYR5ukwqCN+YpwhdVCZBpczRjoCUQDMYMXkC8xkBIgaL2gBnkG/ANipMLomIKV2NdxWdOkxnaVJbDKrBXsx5BH7CPksTxgIpbQ5+BUwmdIGZBh0jMFVQ12hvurA59YWNpFLOyEYsBZr6zW9+A5Zat+6ubRvuugtdUxRMPfMVJIobpGkR5Zp+U3d7delVdnFyLWQc2c2Wulx9aWMOry0pbMwt4vV1SoRXmEgIAZYyaOySM7farKzL6+Qx65anQqnMMlJCeVGx2YxuXc5RZ+5RFNnMZhc+pAyagU5O25ub0ajMyi5GNiGfZMzCFF42LNZ5ssyF6U5OV2IcVCor8krI/es0ms2FPXM9hcUXtwQ8VVVCscvaowSR0oQQWg0DlvjS5A/b6Cvv7rTsHa+hFzi8VZTeMRMbWOrhR97+8Le/eeIX9z4JltoASK178hfk+RGivvqdt6ZfZr/USTVjrlK8icm8VqvRJGYmZqalpZU3NzdLgksMXwavKSryPmi8ojtFHu9N4QAAIABJREFUp+GLFFigVSgAEfEvkpFyVaTaBTatrjNfwR5e7EKBtZkJdIs7sRlXVDAXSFQs7hU/dLJ8XE5L6xVpaUVe456rEw+scSfl08a8hr4Vd8MXdfbi+Bo6h4s0HRzKiiQtr9VAczTl8pwzx6bHZvlWG4aAdWFG2qycFDef392pcaZYHeyM+C6bdS5+DJJs1gJNNzoPKkoaZiaomOP3yK9+A8cPLIVQCpjaRzL6Jx+T6/f8V76afjOk9KwWty4xUZOZqclMa26+fPny5TUtsxcsGOgYWLF0Rf+i1EVSMvBFnorY/7oAKRLWiz/e03EhesygrGdwVlQB9070KatK3RyNnsx28tUscVDl0dnMFdYh+JiDOYR1kC6mq6XIz+pGwhSa1CcwHVcwkWMCUk+DpT5kLLVu3QY00NS7W5iM/jHCqev7pWgKpWe9P50TOWCUt01O5rTJiYnEQOVpKy9vXlnTUrOgY0FH7eraFf39lYsqK9sWLpw3f+H8+vr29r72sr5ZbVKWVZRPJPzuFCXFOfitVSS5w38/gaUIhwoR48RiQ1JvVj47MY3NJGCOZ6RpQLgkSFXl86VmhFgWpUdXjFFhghoBYCOyogIgZSuoQ96TwVwodrPF4hVe6JxEliJIPfEusRTD1D7y/J6B5vfM8//549trpO1rvAOoLrS/Sf5Oq03WcolpmWnl4KDlzc01y5e3LACAalf39/enpgJAbW3z6hmC6vv62mfN6pu1ZlZAW7NmTVlHmHMsKHGV6CUviu/EB6RwR6NBvCvsxqzh3pmHo7FPcR/ITjewbPLo7TJaeyJ0ZIjGJF0SSRmBkOIakA2VZXPMpTR7U5XLBplFzJH3slSuQo/U++ocffR/h6J1iRfaD8VSTz/CIAXBj1hq7Qam+bGcpGe+ev4fr/fONTDtpWeba2pW1syePbu2dmApANSaumhRWxsoaNWq+vntZSAhNMBnDf0LAlIApvC2TZrhO8AsinTkCGTZRBg12fGhIjqzLCZlCcoGroHyVwMOF4232l693h0d3EfjdAL3oQVWsgMglcQgVSCxFKY4N7BEDYJUdifHI30qoSmIpTScA1/NzEiK46D4Pf2ICCmJpdau3bBt3Vtb7ifNDyz1n3+53TslzuWp0xraa1vb2hbNWzhf8uH6+srAQdQuAB/2PXEV/iPEUWtfMOJJ1KEjB7+LDEbkniD3Db5IFFoXgxSKSTRKEl4U9hn7u7CFg5TX8cNYRkAK6YQEKdIuU5Q0TWyg46dhit/M5CgGKRZMkeMHDR0ktXbDWhIo9rDe3uef+c+vfny7VHyCXz6taUnaVQw+8N1AQtQkvIx46Str7ysrK2ufP3/+woUL2xBQtaam9q9YvbqjtgMk19beEhoUOiFRNapYxg3nHCL/3swgpct3h8xsH/Q886H7CfqWPoiQ4gv0Xd5VeZ+YBz1txPrxsQC8UyfFUj3I4EX6B2IpsBReKFEqFFKNgrLXCykFZSRiwBdE9JkMKZGl7iVI3QVIoe0DTSF19hkg6jMUIFshjeqd3v7eZIJUSCOaAu+g1c+vX7VqHhDUtig1NbW1tX/pwEDt7AUtLTUrm1cuX1leTip6ZnJycuLq9nmho5SRRmAyGjASAo80fLVSDPADpNyuoaqK7Dy9Rpuk13divHqvPkX0Z7ii7ga3Jslqxbhy1rQF3foUrwbBsw8F9IUIKc1iPQK1om59pyIpJ9fWQFACzHJyXXq9HspxvDUX8jhEVnZWq1QYlqxn8gSX44NUNTrUfCxlZiyFkVyk+CGJA3lRgBRL/J2JloHjh/SJXzF5grEUYWrDhn2k+SGD4nk4f599frv3Z3155VTKZSH2TJ5P+IFmB/ygzQN+vABa0TrgBdDyy8uby1c2Z0IFTExM5pLxPzXpuaWXtLay0PlIwFImhMl1wJHGplL3IMkthSsYQr4AWqOLBqpDsSqo9iVr9yYojTZkCBiGu2jvOmtpocmcVVVCmNRZM7JMlqwMF+AnQspdTY6ku1Qo9dRhh1nIaeBSKBuB2hBtE1+ttxrDGakXWoeBizQKq1dNlmtCKghjKaiASHFisVQ+pwWnVYDC4C0aFZwDYoXIUiF9bjPHQl5IffjEvfeKkHoImNomeX7PPPOfz3z22U9ukGr6cZlLl07fpRFLtbeBgFb0r6ithQ/X0VJTU0MIagYHJaI3N5GDpq5JZvAZ/bc/eaB9odQx4L0YYilrj8qAXkldqZDgYpDSF5rtHg+e/AwdxrmqbYpijMKTnv+kQsFiMKmRLTQEeBT1qAXBDIiYoXBoPFCALYjHzLno1mSxVBMgpefcGJCuUimxatZcSmlVZ2Q3YvgES4Xwnkh8vGo8KFNRgeRB9DqZKEvDiQH4disQxSDVZBEsPTaHArGUOs9BuUtkA3iFZg/Jf8RSDpPQWMwq1sw8i8x56ddIn/CxFAVTD5Ho9+Rbm18DTYGl3njjs5dub5Ge0OXTOL4XLNU3v3Yl8FNeDg8OCAKAOAag0fET7o6ApgaClxNL5cA7yXZzDWohD+lzYKn83JJ85PHACXQXIVNhsKRQqG6StoN3KBTmOoxqVvsBXURmj6MkmyXaIA3cku4osRuEuoZQSAFmeiv6Qa0c1jI25WP0RV4cOn6cG1VfBJUFvx4GI5lMYURXlFqlbGSQyq/AcoMR/VJ4bUS3bhYFrkkJ+KQ2FVqIpaCRotJFtFXS4Js+WZ+IpQhS9z/BYinS0EFTG7bto2AKnh/8vjfe+MkNXl0icfVAZI9vFM87cdWs9r6lid7je18jP0Ligva2YGWAWMoFx0yZwveozDlNDFIcfjq12q4KwVDA9VZghCvGjXsPCkiZczScs06gEUtDKlU2Vsb4CAyKyDOpqvDBzYbBhrIUogXtMIq1UN6qTcthQB8lscZfy7dWWZA2a8mw4VcJbnenXW1SZ5dkGODboYZaqcGktBGkSrNQD6AwpwjraBwJWJpuzVK7MPzRNWgw1cFlnIEtgKXI8WMsBc/vLgqmXvuEMAVIIZryJvit7F8+XVeZPL+stX6hN413ImdRvrBsddD2jKUUuSpVbn4dqGiuCClNvqM4PQ+oKYDDj19coUISJ5iG0QgdmLOrAA+dNPhPUwXXsaiUUIanCF+lh7IUlSXiig2mYi6lDn0yXXaVyepFadAJzfgPWmeXy+XodHp/MJz6nG6nNr/JSZfLu1P0cxUUS/X05vbYusSVtOhvb1IUFTQBdZymSZ9SQEibeQ0sdc/Dz/7qQ8RS70rJE0RTUjBFkHoDDdFUuXhtmqW1IXHIlF1z8vz2jn7Q1MQPqJ1dtihI9COWyuFSzEJpsdqUx3cySClQfctiNhsIUpyjEZ5MtvcBIVmQIEWFivL8kMpWmTyaUrGupRZw6QmFlJoglQtI8YohGrQhmLK9ruTEr2r0PWibujun/vHUsmRc71kFdzjQPAai4qdhmefiWkGzGwR98O5lJrwSS90DFf1+b78UYin82wB9ggVTz7wBlvr1Zz++uVb6NW2uHJl8MDUXCkjNbqlfGI3DN7f1BdEUYym+oEpQD5rMJZwIKVR2KCy22lBUr4BT5Kkw+Efp8F4pQYokLQyt9XBchVhIpQhVhGxchmCgGEBbpULJ2FDHj1wZghTXVS3U1WUlGHu9e5zM14JSUwJTJifzIBHv2yuiR7xhjG8gQup1Yql7wVIsxw+QAk29tf3+A+T5gaSOgqZ+2ixeiWZgumiKIJXZ2udN452IYfkFfYsCoclYiteiRApqqzpFSPE9ggqana4KkOJR/qS6AmPEvUkygBQVDJpLSiDHYYj6MHxCpAE0lnBGjFfHag2seGUIpIileIKUJtdkciQtjk7W00UtIXHqRdeb2hWo7mccyp1ISAJL3fOrX4GldiGWoqzZh5jn9+STW06+9sn7zO/79dHP/uKt6ceVBz2MU3gXCFJcy/z50Qjmmitn1QacOmMpLfPuDD0YbUeOHyAFB02bA/23wJkNBC2GlOfNjcZDqhq0OiDrFYKsSiyCethWjG7NjHwSHgx2W3GFicYzhEDK4GUpTbFgsttsVteUFGeITUjxDT3pDdqAuxAnbwGpRx9+9tkPP9weGEs9BJbauWXP6wdESB399Rv/7KepjhVRCGfGYT4GqczUvtZoHL6lPdCDZCylxWBw9Cihvono+Fktqka7HTGUoYkG+rj5PJPAhqji3PGQQiRuxDDzHsRXGFGOtahkODbWoVOGUppUCSnerl5fv5SPpUieENRqi7LO45M8xmGSMW7ihZRUlnbEVmK1Wv9iJiGwCrb+ZZPxLiCMmozdT9M+iaUeffaR10WW2kA0tVZ0/DBaHjI6YeroG0eJprzZs82pkg84xafMIMXVzF8VjWrSaal9ASkUOqPBghoJfK5FnQG9yV1hAPnojGqTylCXbbZ0ZxiULp7vKjRYiGbQ8JCas9WozDCcTx+dtgylWl2XTuEVsieq8CGrpxtPZlOFOqEXeRMG1FVxZhvMDViWa7bk8tDmLdWoSSmo2Sh02m7ymggpTZOt2FicU4DrVDidRA+8QkdjexUptmJXN9MvtDqFVteg1/E6va24xB2HHDJ5VvbumVjqnmef/dX9v/GzFMPUvp1vbX/twPvvI5T69dGjvz76zzfc7kXS7Fbv1lP6KkIqM7U+SKwb7ynMrp/nvR48W7rFSfRIKbq6iDR4ZwpS+jhniSfd1tRktep69aSYabv0DRKn0EOaovcUe8dYaZFg63aS+oum8X/Q6tx4eCEaYzA4X+BIIsnQ2b0YJWBNapdO14sM+OB52dgOov2HQarIVmhAsRd1dQqvM5obSXtsspuRfd85bDaYDEoPfhx4feOgzWixeBqy1Vg2CJ6VW6QWgIj+KDAFSCGWktQJ0vy27dv31ub7D5DnRyR19NXP/vFmqfQst7I/0qNEZX0RUtzKhdL0jBPbaVplmVfEpB3hAQts4kcqW0Hdvb6vfcIue0jxdchmgbsIei/tz7dsbikSChWKgiHkivqUed+30X5DZ5vUMGgoTEgoRK+0k3IWhyGhpBQiu86N3rS66iyVOr2IcsUNSKxSDWXQssEZOqw22uaLcH+iPPHs6/f7Yyn09ELyA6S23I9gCjQFRJ09evYzXzSV3BwN1yvCE0XqEckTHJfZXxmVw8+un++nqUhPhkEq0o0C1ndXCabSnp4qi9CI8GuyGzvbpqG8BmBGiSkFqFQtutVoDrh0nc2kyi7gurOEQZwJEu0Esz3bg8TWuVy+PHn8eO4MY6lnn30dHVNgKRL8WCxF+gQghWDqjfeBKLDU2V//8Gap9CxXvmA8h5roNhKkuOWrZk90V7R9ZuWspeCf8bUuzHPBAqfxbc5pS0oRR+HxrSqBRznZTeRUN/mlTaWCqYuDHIN8KFTQtDi0pSpWWtZIU97wqM9szlUUdamRLi+5sZN9cnG3f8nxe/3D7RiCKDp+kNHXPrQe+ROA1Ovvv8/8vrNnXz2LtCTpZ31la1TCmQiN6YVUeXuUaKp9/DSlsHpyJiTVaTtLkIpjpWrjk9+8nNrkcFmRrNjF8Sj/kK3rRbZIZ5NZsAzl5hajwmwxYyman00H6bOxylYw+acWh0cQFb97Xn/9N0+gq1diKamvFyN7EUxJft/Zo7/+y/WrxZ/1zNXhSqJMtnW8kEqbVx8YBY37sImVfeMPCnmxuN24D44N+SmjAZGlUoYHMUcHhlsgkWLxIEZwWVUomQ5IqQxqNSrOojwGsRQGhqGa3jByGi1szNNELvEbuS3l+D366LPP3u93/FhK0vr1+x7fsp1Yihy/s6x99rk3hWJaavp5IcXXllVGgyX5lrJVgSkU8Xv/CVJJi6tVpgyjsY5BCqMtVD3ZNDxQh4Ep9jyjMS8vHUmLNKKdEadO39OIpMaxyi8R2I7HnAZhGoT9KXCBwxw46osAKfRLIZjC6A5WeoJiKbDUY+jrRUrS6+iZ8iLq7NEfXv9TaSKP1dOQleSFFLeyrX11NBSKxNSyb8aMqYylMOTLmF/kRoIwpfu5UAXQQoNrFYOCMqdIg4aCtoyl4O5p4dRqMNXHoDcBa3zPncKpG4nJAqMxnMZZlMumhBvfgWJqK8ZSvyZIbSdI0SB5EVPrtz1OkHodiNp9dv9+kaZ+cn0tc/0SM1ujomRHZAofpPjlC5n2F9HW4VZOW9QnubLhvo2fZQxSHqQsclw3i6WQIIKx7Bhxi0HIPUij0nfOXVxCA/tFluK7ekq6em0WoRqLJtAcw7kjGWmxsjEcHaFCkjfbawJHjIVNMf01WOpRP6TAUWvXPvbQ+vXbdoqSHzC1/+z+rc8BVEc/e+f2mubm5TW1tYumXqHwQYpLHihLjYbrh0EegWlJsXA/JuUcmOOHErDV1hzoDoyluB6M61e6ENE1YGy6uaKiUUiYy1iKKi07VKaEaiQuAoMTablq/wgz334a4h5SL7368D2Mpe6/90lWH2nD2m1rH1v7GCS/XfdC8jvwCUPUWYapz35yPVWknFff3lc/5WGIH1L8chQO892jCbwpr+wbCOeFTGCXsbhpb51Q2NWE8uQYrT5oEMjx4/RIXqwmSY/X27PwjSWhGJSEmg9UJ7bAjuHrpoTiifl93DcWUsieeP/Z11+/H47fNqIo/GEste8t8vw+OXB09/79W7c+t5Vo6qt3bi9DdaK2tsr6y6f64fFDitMsjZJCsaBs4fj7e6faAOM+nkLvcii4JE9Vht2lzzPm044UKACQLu7R2VDicumTCD/5tmI9XHs+X+9CEetwDpq4ydj+fmMh9TBJfq9D8hNZCqBav3Y9sdTOe+8nfWL32bOEKJGmfnxzZf/Agpqa5kXRGGMxtjsjrRUAKVIoojLpQWbqrG8CTYkWVLjd+UhnFCUDFEzxj6j03wftRGHk3xXH2byOH++05lXZe9hQDjh+TldVQobYlaxwDZXa03tRbUKMpfgCm91ut04shgs8h6l/P+fzh19Fjt/7YClASmSp9aLjd+JJsBR6po7uF1mKoikkpM8uT0tGrlvqdLIUh/qWwUPdx2u5Be3fBJoaaR0+Vy1Uj9QORq44kSU+ltKVmpVZherCEuytQWnJUyotBksx6NA5ZGmsGLQkpPASpHpLzYMZjXUI8mZsm/PSq08zliJIrWOQIpp6DPLEPib5HTjwxW6w1NZNW7fecfbsF3/5u78Rr3V6IcWVt9UvGCnQRn4bEitnDeDWfuOaE1VnPNEw4IUs54OUs9Q2V+E0miqwdoNS1WjVudMNqDSg9airFyucxZYMpwgppHX0OBUFrsUX2m2Mfzfn81dfvQexFEl+D4ostX7b+vWPAVP7du7afj+S0SmUemrTc5uIpc7GCqS42pCKLOO184L6VeXj3XYGb9eUXtUTpQl/RreCD1I8m3IxRT0Ih65BSRVIOV2FuphrqlY3YPP8alOKCClNroFmKZ5srI9+ylH4BpA6jvwJkie2PwiWQg46SIraA/seB6ReO7Ab3VIgqU1b7wBNHY0VSGlBU1HJitIsmrViRt/BKDwEk7ULXyyFAyjmNrgsmGsLkFKSw6lNNxhRmaDQkYJWarDpWCzFl1iqrVNUkWOyrhqQevphJvndfz9BCsoEIQoktX7fvl0IpkSW2vQU/hFNxQqkuGilJXEtE8ienay7Eif79bNUb3F2RV2WiQq1Sf1SWo8pm7NaDIVZaBZTsRRL6WxKdUX6jB76KEGKsRRGd6z3khQ5fid27bqfaAostWnT3ZuIpWIHUhRN1Ubj0UtcNIHs2WicQPzuwwepuaXquuyedLXIUix7QusBS1nVhT0easVdEqQ4RUNxgmGQdIyZ2qD4Pc2CKajou8BSj4ksBZLaQSo68/xI8Nv0wqZNz0FH/8vNsSFPwHOo7YvOtLs1ZQFD5mfqfZTOG9MWBzYxIzMK1xSy3zF6yl5IaW2GjE6nwmmWHD+SyLV56h6uRFlXUMSaV/HDN0VNPaqqGdwBT7EUHL9nDxCkHvezFGHqcRZM7SZ5AiQFmnrujhhiKdBUmZhxOMFHJjF1Vv8Yn5EJHmnSN0+84kff+tb3voXG/nzr76ORXYyzXvJPQbv90RVjwypiKabT8x51HjSHJCmWMniwdG4hJozvTVCnkOm1CglSKCeDj3pT9QTzNibd0hc4ADl+YKl7yPOD47cNqUiSOkF9vbu2o6QLg9SmF+6+e9Oms8/9MEZEdFxSctRoqj0qldYvYOWp+uofvnVnYLvtksuic+Qrvn1b0H6/tWRM+81VDzowKZ2+yWaodiS5EqRYSq3saUjJUFUjmTDdUGddnJRi8yhEx8/Zk56S1GCnfN4Z29AvdZz6eiWWQsfU+rUQ0ZnjdwIstf2113YzwS/2WIprXhQdmspsXbMiPvqmLv3ebbd929e+f+e3vxudB/OK79/5fd9uv33bbZf8w5j2a0MlC9Q7FNJ7qyyWwsKqaszbxnUXZvSYMeSxWg/Y5Oeh7rzS0jikA6Qgnys8Skuh2VzVO6b9x+ZKfsUPLIWOqQCW2rHvcdAUQYocP2qbnnvuJ7HDUoimytqi0qdUUz9vynNBJuVxuPR7d37vCl/70W1RhNR3vLv9nx2X3DlGSCXlprOm1xTkeDwunb4EUZTT5tC58vJsYukOhd6Wnm5zFPBafTr17zpLitM9rqZJsc4U7ZQ5fijhLLLUPpY+QX29aNt2PA4VPZClNt1xNoYcPy6aNBWVPq4pumejHwaQ+pafQL4TTZb6e99RL/v3sULKtwkCqWBPLtgpCP4uYKsZ+ZYUP5InWCy1665t1C+1DZjagX/7TlBK0msHfSz1wqbnfnizlLk9zQlJzNja2vbo0FRLdPT4aX8CgiCV+J1ostTf+hSJ744HUtNumqk7AcZSj3pZivX1Mkht20GSH6Ukndy9//Qm9EuR43dHLMkTMBImtYmS6BeVIY1Td9tGORJiKT9LJUaVpWRIjWLzEYspbRaDENmAqSfAUpQ/sW0beX47tu0QJb+DB/dTTy8gdUeMsRTH1bYvjEo01bIwKkMaR5h3iheEsFQ0HT8ZUmO9l6yrFyz1PuuXWgfHD2MQyfOTILVlzx6Rpe5jkLojpmIpji9PbV8ajb6XxEWV8TAUUWapsT73k7gesdTDFEzRgClKn2AkJWHqBJP8Dh48vXXTfXcTpu6OMceP49IWtkclLal/VuoUdNhrOeQ2aDIzm9PKm1fWXF5TM3tBR0dtTdTur8xSUTPl+HcksdT7B6irl8kT2zZs8Hl+j+/csn3PScRSd4uYuuO+2GIpXDcGeUTD9auZ3758/FYcdUtUIAKC0srLm5tXLq+paVnQMTCwekV/amXlorZ5C1etqm8vKytbGLUjyyw16p2Yui/mvATFj1LRJZbatnbbhm0IqVgwtZFGIe4RWYqR1N0vxBykyqNDU9rWvlSfpjUR8xOEytOamy9vrpndMrsDAGoFgha1LVq4cN6qVfPr2wGivr5Zs9asmeVr4y96G3KmMkuFGGQ6Poos9ShGyiPHT3T8NgBRFE49gI4pSH57Th6E4nf3fWh333F3zEFK21G2KBph0PL6+qg4YLMBn7Y2ET71BKA+NIAnAEE+KHnfVEbrzoewlCyiR8uwkeyHsRSmmCKW2g5IoeTYNoYpoql9xFLbJZYSaSrmIMWE9EiueJR1tQPRoakVhJM14r8LwcgLJ3pdlDjKSUW6WGapSC02CeuDpV59GBWSCFJgqbvWb1vLHD94fg+sX3/iBFhqD7EUkRRAdccfYyghSTRHckdfVGiquX5+NIT01kCsXPx9X1lfWVl0xifDHCEsJYvok4CYi+5SiqXYSHlS/FC9eRvmxJGCKWT5+VmKiX6xx1JEUwHT7l70iv0rIHZCKkyyIjExDfFP84pZ0ZhYu3V0auoDfurr59evWtW2cGHbosrK1NTW/qUrVg9URqujWWYp/92dtneS4/fsM4ylHkdBF/h95PnB8QNLEaTAUltfZjQFFT32WIrjO8aalpQMnTxRkZmpSUxrLm9efvnlJMJ1LOioXb16aX/qolnRoKl+PzMhiAID1c9fNQ8IAoRSU/v7V9d2dLS01Fy+srx8SWJmYjJH/zr6ZkfnAZBZKjp2nNBeREhJ9Vzg+G1Yv3bDXURTANQDCKYkSHkdv9iTJ3D15YvC0hSv0SRjNGpamiYN/UCXX968vKWmpqMWMnZtfz+pcKnQEaDCzUP53Pb29r6+NbP6Jx7UwPHrIwpKrWxdsWLpQO2CBUBQzfLvrmwuR8tMA4xGKIuzyyqj0RFAjl9A2qyckDQhZIx7Y8RSpKH/WhLRqezYBmCKQYqy/ER9Ajl+UjAVgyxFNLWwnOd5TTKnzcwEhqgjtXxlzfLlLbNr0dAR1JrKuoIWrpo/HwiCjt3eN2ukELcmCiPvCVL9gM+S8iU4l+SR+Bl5q/jyRWWzRy4ex5IQlpIVv3HYcMKbSLHUs0jyY5O2keQHz49y/aBPoGOKHD/oEwxR0CdiEVJcGsYiIhdh9oKWgdragRX9K1JTUxdBy563at6q+vkEIHCQiCBvpON99btp9C4Kkxf0z5rXtyhzBBFd8Ebx0cqoj2WWCqyJ4XsfmZ0uaMSY+VKKpSSWolhKZKkNVHdsxzYa3gEVHRWSJEzFoDwBW3a0ty9CX+p8avVlfdSbyrCyhjpUoWgH9qsGgyjk0+wJ35jWWf2Rdz6XL2qf+JFx6iEsFUuK3z/80/dQECP03z8tmbDBY24HkuOHiRBZv9Rdd5HiRzRFFWcf8ELKr6LHJEuBpkRoADsMQGPDEPl+fX0Io9rn18+HhLCwfdaCCd+g1lkrMPFppKERMuqjMWFWDLPUFXd6y1fciiZVsrjttiuCByNO2PwxsAOJpVhX7xMokQSPT4yl1j722GMYh/j4ri3U1yux1N33xSak+I6+sRARqAsSXHt7fb0owrWRjN3a2j8AxaKjpWZ2W1QgtRShUaSjuMrbZkUj+zd2WSrqULkXAAAgAElEQVT5b+8Uy1d8f9ZNaPWsksX377zTP2YkBsAQnVMAS2FUL5ut9/UnUHyCzS1KsRRjqRMnkDfrS5+gzt7YhBRX3h7iwRF6RA0bKjZk7DaocIsWAUD9JMMxJRtC3OWUzwopgcrUJXNpqdGBVOYC5EhFOPgbM4hEymxhHoAYZilACuUrvnuF0VCVbrck1F7xP6/47nfiE1KUNvvoo2weRGIpOH5gKUzYu+29M6fPHzn86akjrGNKiqViMHuCPVlp9bP6yuDHQQ+fDw5auAppqosWAT/9S5fW1mIERU1LzfKVK1cuKU9Df1ByJjCE7ZKpp9dfFSFakEpMw+SKkQXefGJb30AYjES4KISlYknx+/s770T5Cm1XQmkv58xDDT98wLK4ZClWE51iKWKpdTT5NfC0Ydu+w6e+/DO1L899/fWhTVtFeSJGHT8ubT6SEVpXLO1fvXqgo2X27Nkty5evbF4JOR1KNhgoUxSzA57zMCwSNUhxC8oiluNb+qIw0VUMsxRBCua3mnJgeYfFng9M/f1t8QkpNrhDSkgSHT+MmNqw9r0v//zlp4ePHDl/+PDX/4329ddfx7DjlzavFl1R5eXILAJ6gCEGIUIQP/aZVaIHqbTKWbUB8B0L12S2lQ2EgflYNvWvE8JSsaT4iYyk6VGn4HS7Byuorli8stTTGC+F7AmJpeD4gaa2bVj/3penDp35AMHUwWNHDm5lqAKsYpal5s1GYs8EW1rqmgUT3AXHta5ZCp8Snc/NEe6qJXJmG3GEmGcp3bCSJpRKSqijObjjFFIvvfoi0ieYiO6VJ4CptWtPfHrk0AM7Np7Y9db5Ywf3nz696WuRrH567aWs2EMsFB3zP1JpgNSEW1RYqp9BCtFUpKJfWmrfhOdjjHmW8kEqiypjximkPieWYoX8kD3xIJL8iKbQ3jt87vzGHTs27ty15/D5g6jhTMEUvL//vvLqq665blly6soJP8IR7iBw+uvQTaMEqaixFDe7fl6kCl5L5MwWaoaZw1LVNC9bvMZSr74ITD1MXb1eSLGZEDce/mDrufd2nNj51va/Hjt3CNPhEKbu+OH11117zdVXX3n1JbdcNmFPK/SJuPDnmQEpkaW4xIH21gh7MTOXtkfcRRxisRCWijHFD+peUY9ZjKVK4zmWevHFVxFMPfz6hx8+8cQ6YqmH0B576L3DH2w8cmjHRqrocv4wsRTD1B+p2uySZcuu+cGVP7j6mmunElYzA1JiLMVxmYvmk04fSUurXDO+gV++g8Q8S3E2UwnO1mEx0hxT8er4SSz1iI+lCFIPPQSW2nHf+TMbd7711pbdh89vFT0/vzxROXvZLVdd+YMrr7n20kTq35n8NiMgxUssxfGzV0XsGne0R+wtBps9hKViT/HjSsx2t8Y9bCApPW4h9eKLKDf78COPgKXeZbEUAYqx1AM7jmxl+RMH/3rq0CbGUgHZEyu55MQlgNUPiK0uXRLpT3LwszCWTzMCUpLih+tJq+yP0PPjMitnTUyhiH2WKsqzZORVid1ScRtLAVIIph55/UNvLAVE/emhhx44/MEDO84cObNz15ktB/cfPr9JDKZCE5LQCcTY6uqrrl126eTCamZAystSHNcyL+KSSzX1qyIVNYJ+jGKfpTh3bnVCRXEB82vi1fF7kYKpR0JY6k+PIZZ64IGN58+RPnHw4MefHgplqcsDbmYmwepKsNWyyyYPVjMDUt5YiuNW9kVcyyKzsmx1gFkjfhv7LIVLciq81xW/kHr61UfI8bv/iQclx+9PaIyldnxw7MxbZ7bsOXjo2BExGT2UpbzWIc0CsLr6yqtuue5S/8JovpsRkPLFUhi/v2p+5DTVPqGpuENYKvYUv+DnIV4h9corLyLND6HUh35IPfSnP4kstZFYasvBgwfPgaaQiO6XJ8J29S5ZJirst1y3JNh40fg0IyDlj6U4zeo1/ZFOgZDZX7Z0AraaESzlv7547Zd68ZWnEUyBpf7wxLuSiO5jqY0bz5zZeQYjpvafBU0RpkZnKclSyUuWXXcNpMCrAavoKoEzA1L+WIpbvjBymlo+oezZEJaKQcXPjye8i2eWAqLe9rMUIUpkqR0bPzhyhrHU/kOHQVNvXoSlyGDoAE5ecumya66GFHjLsiVsFEWQIcf7YWZAyh9LcYlLZ0VMU4lL+5aOfwqRmcZScTq4Y+8rJPkxlnqQZaJD8ENjsdTGjSfOn9u1ZcsedPUeOzImlvIChhR2ghWyl6KksM8ISAXEUjRJY3tNhF122pqyyKnNa/NYrj0RjpHCLfNdy4x9M+dzQIpiKbDUu4HyBLp6/7QDkDp07MwWBFP7tx769Ou7P7q44xdgCYywIFhdeSUlBS6ZcPrSjIBUQCzFcZqlZZWRRlOgtvFPQjfTWCpOx0vt3QtIPQ1IUSxFA+WDWerM+fPw/E7u33rfkWObxuL4BWBKfHvpdUgKvJoU9olJgTMDUgGxFKOplkj7e2tW1S8fYcMxLgiJpWTFb4x2i+pqjKWAqUfefvvDd5E9gcGHIqQ2Hv4v9EttPHHi3JHtJPmd3nQIot9HF5Unwp5d8qVMYaf+4CVhVxjLwpkBqYBYCjQ10F4ZaUedBrXZI6U2r/lmGkvFayy1F/kTjzxMLPVgkOL3HoPU4zvPHzn38fnzR459+udjX///f7z9CvH+hRXRvbd2xCt8wESCFbxAaBaRPmXi7mYEpIJiKdDUwogL9CUvn1cfcXagZPAQlpIVvxEP4hQsAEvt3fsqWOqRt3/7LkR0qj3BaIrkCcZSO88d/lKsQvHnL2nE/A8wYOqWW5b9qIZGo0cUfCdzgBW8wB+gP3hZmNLgF7ncGQGpoFgK2mdt5DSlXR15BOaDVMzWRIcUQbUnqGk10mMTp/1S7+xlkl/YWIogtXPnW4epqAsqUXz6KQbK34zxUtdcdfUPAK2rrrrlWsh5S1ByKALtIXHJpddegxR2wAobikYe09+ZAamgWIpFUxEX6GteWN88JouMWGlGsJTTmqcXzzxuFT+fPoFM9CdpVC8S0f/0J6/ih+yJY6eOnf/40KH7vv4UsRSNl6KS1qn/67pb0KV7JXqfCFrLll0KrXyMCEG9FR+sLl0y4sEYZcHMgFRQLIVf5I7IKYdfWjbOeRFnQCyl01dZ1MXxDannACkEUxDRnzl//vyhfWvXfnDo0Hu+fimw1LGP9xzc/9TWTVs/ve9NSZ7g+dS/gVtDeejLrqUQCe4goHXNtdcBW2Mc6JHMYAUv8rrLxgSrGQGpkFgKQxHbysZCU1r8TmWmYdpsmnm+drwTMoawVAwqflpbYYY9ziH1zt7nvCr6qVPn/3pu59rTR7788gMGKTGWeuvYXyH5nT79MiA1muLHI0gCtJA3S+2qa24haF1UhcB0ZZQUiI3QcXXxteePHurHXO0JH9NqqfSs7xPeII7QaBOTMV9bcyYmnsekcS0dHR21A0v7MWUPKuJi6uz5fbMqI9Xe2SFin6U0tlxnjg9S8dkvxSAFlgJNnTqGcfIbtu0/dP7Uyz5IEUud27J5M2ok3ednKY4Lr/ghEwmshVgLjeq+wCO8KAUlL7vuFlobHVcXhNWMYCkuJJaiCeXKajWZiZmZNOvVSgBo9oLagdVLV7S2VqbShD2Yb4TqtM8qQwlqcdpsqkU9L3DsTCAiL/g+hKViUfHTcrwfUvEpohOk9mKwPBy/U8cwuGPb+n1/OgSW8sdSZ4ilTp9+6kIs5bvR8AXhEGYyaF171VXA1pU0kIqgFVAq2be6982SS69jCvtVqGYxWkA2MyAVEkshmqppm4/pFtEWLpw3D3OEoMK0OFsP6rbTVCNoIQXd8bGv32uaSF5jn6VwNdq4h9Rzz8HzE1nq1Pnz+/etX/vYoS/P+FjqxM5dXpYKiKVGYynv/RdhkbxkyaWXLVvGWOsHP4DIRw4hEmmhEI5U36nj6lpvNYtwQseMgNSIWAoWqRUnuxqJmwstqfSaMpLXGcBS3wxI7d17FiwFx+/Lw4fPn1j72EPnwFLvHRa7enfuZCx1UGSp//r530GWoBbe8RO/C/kLESMT4IL6DvEdyGKxFgTCJVKlcv/qYjULUtjDVLOYEZAK6Zdil9bcdiHssO/YPFeYIgHzNtIUI5ULZ40TUjOgXyqApeIzlvr8uafAUi8iE/1tyfFb/9BIljooxVLjgpQXMoAWJdJSrAXxHcgCay0j9T2Ik+A6MrZi1SwCM3NmBqRGxFIo7CJNKCeCB/OLtJfVY6b5+lXzV2GeuLY2TJCAGRLYDD01yy/HPNlLygfGC6nbvvUPXnMnficGFT+cXACk4jSWIsdv79OMpY69uw5Ttj3kjaUeowLOJ7wsRYrfRxOClPde05AqEt+voRqbovhOCuFlgf1aVCSGBI5b/NUsZgakRsRSDFKYJa6eAAT8YJY4THE10IHJRWoup6kRMjG9FX5HfBMj0FNXO6tytJDSZ8Uwb+RYKoxRpnrRnHfAUiyYeltkqfWPnT5/+M/HDkkD5QEpUvwYS2369O7oQIpdJHtkkE8L8V1UCKljC+kY6NeSjJAItqKhIVI1C+1MENHDxVJgqf6OjgWYIq5meXN5MzBE0eSF7nQyIHWh70f7bkbEUpzLEt9dve889wJ19hJLPX8AozvWrz9zDm3rRoqlvCxFEyFGkaVGPhGZEN8pG4PUdxAX6zNmI6y81SwwkDFx1Uzsl8K1pi3qa0EXHJEz+3/k5YcuiWOWKihx9RjsLj2VSYrXHL/nnqJgCpD6LSuNuQ2zXv/pAZaQxNJmxX4pGt2xNbosFfoY0WeMsIdCeB2SCKVoC+L7pVACl7FqFu3tHeGkQtowhrp6Z60oojMKaJhtanbAxzG8jWOWcg02mg2Wxgw2zUC8xlIvwPE7+3t0TP0Bqeh3YSJ5gOqxB9AvJcZSZ6D4AVGQ/LZ++mYUHb9Rnyz8nKNf61JI6kjHIIkQpIWOrWuvau/730izgNc0ctMYgtSa/+MqCE59gOPXMvKUL7REW7tm7LGUtsjXIxHFWEoT+MNwxfcDpiv87r/feYlPA7ngVfhPjJVuYZnout6uLvzXRLuP07RZOH5PPYVkdLAUg9Q2wpQIKfh9JE9QLIUkP8wq/+l9UwEp311CxJ4I8Z31ayE998pb+/4dL6gXjfT3kFAkdiDVf5PJMJhD02b62nggNfZYSpHjcTilY4XEUuNX/PiCXE+Dr4QlNy5I6awePU0mILZw8Am3zLv+zH2FPAGWeu6V478nxw8sRZACoh4DS4mxlJel9p+eIpYKMKYoYbAYBLXM6su+hfzcH2BcyX9fGTLmPnYg1XqTSqUyZDv8zyPFUrMDLmoMbyNhqRKlymJnoQmHci5R6pcqyjWpzOlJXvobD6T4HOwir9tb7gnw8Y6X8hkgbmMpsNRze1/5/dtvE0ut87IUKX4+ltp+cDdYauoh5TM+e7Oq/e+XXcs6i6+6ZUnwV7EDqf6b1AJaYw/NoyS2yWWpHDpeoYc9/iEsNf4cv6JiuogEW5N4BeOBlNZmwi7qcqVdhGOkcMu8Rpu5r3PeeeEFCqZeBEt5IQWSgjIhstTGE4ylTqJGElhqah2/YKtmLqvvu4R6qlAgmtd6fz+ldWIHUq2zFtnpIVcNeh+mSWapJqMBhzNV2+D9RY2l+IZSAoQpI4e5buOBFNdVxU4sw8p2EZal4laekFiKIPUgc/wIUoylmIiOwR17Du7evR/1XKZEnghGEvvE6q1fWdb3nWWXhgRRsQapZGRPuHMq6Hk0lLrEEH9yWYpzWxNUOJylyqWNGktxfKdHiZ0K5qEGLTe+WIqfm1vHTsyuh/cXjpHCLQtz92fYIsZS0Cf2/v73v2QVnLetRSwlstQOTNXLWOrcnt3k+U0HSyUns1lBoPpdtwxdveEBFU0RvcQ4sZZwU7XRWFpImBLM9gYKJSKOpbSK2jWLisbaNIqkHjM9u2bjgtBYavlYdzJiPa1TP2TAXk2F6W5tCEvdeknziPXDLNDqUoYs2IWqMa9TG5al4jPHD47f3cifeOUVKZZiKnoIS51jLIXimFPLUtDSqVYZ4IQkWoBpSrIn0g2m8TcVbapSmQwmesTxPCrT4Y5FzFKu/1Oxpj27aswtu7ROTQc0NZbd+iOfvl30nTU3lY55HyNXzC7NIs9NgIC5IFBEX3nJTf+aMXL1MEuyq3BibBdZ1tVhnLx4ZannbiQVnbEUFfLzshQcPx9L/RV+H1jq0BTGUuj0xQgqJNdec6039W9qcvx66BEYf4Pch+bb3lCq5yNnqXT1TWtIOIykiYc0Gdp8WmjiipsA74k1ca/qf/3+rZi7WmqXLbxJiGCv4i4M/3rrrSMVvzAw8x5l5r6S43f3U9Qz9fYf/vAHmlkU6RPk+X0gQgr9UjuPnYfit3v31q1RzfG7gM3EyT9onC9CJ9+tnBpI2aoTJtKqzTc1JlQPst9mSBSefOgoEbNUj+qmWTf5YBnBG5XqpoW+UfmJ37nJj+0IdjJiVZW5uj2gq/eyhcyrHbHaBRdY/nVWwC6kex+vLPXCjS+8QCr6L0lE90Fqh4+lKBN9OxB1aP+UsJSY1EfVKEKViKmBlK5p7kRaU+Wa1i6X3UzPl9K4mAmTEcdSOdkVsyJx/KoyGkXwNLbf+iPfzKSJE3T8qkpZhCaoqnM6vn9bIEut+dexOpQZ0i4GrUtvk3ah6U5pcIuYitd+qRfuJpqC5/fLQJbawVhqI6VPIHuCYqndcPyimYkehqUAJ5qfFPVow1WhmBpIhTmtiBa1rmnNTWCCn93b3RsxS+n+n9WzFuWPvemHGaTMea7v3eobL8UnfufW77eMfSeha7pdIh4Gi5NCFL9Lbr1keejaYT+7XXYlYb0wvSH5f0hSRFPPYFZdhqiFxi1LAVNgKYKUyFKi5AeW2sgUP2KpPSd3f7GbWOrN8YzqHcMjyfM0kgNKBE1GMMrIh5kBqf41StYtVZEj/RSPQ/FDkdqxJyRxTlsCZASVIcOhoH6pAJa67ds+L3AM9yB4lc6eLKBBZTYuHimi33qJ7yDBGwV/chfX4bdFZRmm3I6/FbMninrUeS6POaGbVo1bSN1ILEWeH2EKVdHXP/YnpCK99ykgxVhq57Fz21/bvfsLQGrTf41vmoFgU4d8opG+XmGP4OQLnkLXmxLFL+SgEX9spSBI1Vjc5O+MjpilUK5i7JBqYj3LpgSCcNT6pfiGasa0GQ7WTxsioo8tbTYpgwRDQ4KLZSBK8EnJynZzRcWmXAA1jiF1Nwumfvl75vit20DDO5g8sZEwdeIEZaLv2X2AWGpTtFkKBV8YnCDsXbSi5sxgKUDKZLE3iJ28IiAjjqUiGtVrJSZoTJ9Lz2jUsicUHkLDoM0t/jCMB1KaXLCcqdDmphNj8CHFz2YqwQe9GcDCsnjtl3rzxpdZMrqXpZjkt2MjWEqEFLHUyd0HvthNkIomSy25TIQTup1GGwdFN8PbZgik1tQZc7x19MVTj5ylaAii97Iv9uooNJizU8TnNmosVWRTm6iDVjw4Px5IcS61SWnslnYhMVJRnoVyH5MSKprwEr+O390smHrFG0xtWMtY6thHcPtYRhLq+J3c/Qk0vyhCiunkV1Ps5OtHudizMzMgFbacy2Rmoius6WIiHuwXNZbi3LnplEYktXFBKj+3x1Hk3QPBByylG1Y2YFFSQlYSXuIXUm+Kkt8v//DLd999UhresWPjuXOA1MYd6Jg6cm77nt27P9n/xaebXo4GS2VS1ear2XSjYUYT+m5C6JsZASl+oG9p6EVNLksFmimEpcY/Xipwp3g/LkgF70OEjw9SdV34On4hBcfvBajor5A8QXOLMslvx0eQ/Kid2AmW2nPgEzh+pybu+DFhj4pLoJZEsM0v+mlGQIprqU8NrJRGVzWeWCqCUb0BhoseSwXsFG+jA6lAlhIdv7iNpd68UZL8iKa8kNp44tx5SfE7glG9r8HzmxhL0SwfTCfH7KKXhj51wXcw/KeZAanytvblIec/bSw1/vFSIVcQHUiht1jrYbFUQ11pfMdSN96NND8kzv7yD79A+sQ6YikqO/HREUZTYClAaveBT4ilXh5fv5S3iiwSYFGtL+R+jfVj8oyokMStbk8NuUKZpXCLxVgKil8OJi9xGXpo1HPcOn5v3vimpE8wlkIwRZ7fjo0fUDQlxlJb0DE1XpZCAiyEPZpN9NrROnHHBqrkeTOh6BiKNdXXBF+QzFJ++OgLS7vzu0stJWSiuIXUjXD8JBX9F0yfgOQHSBFNbUUstW/nkb++tfnkJ4AUWCpCeWIJJhkgOLEEWH8GbPAjN8ZP2kXtC0ZbNXZG9XLcQFmlXyujE5ZZCkaQWIrPVQ5mJCjTWQ9yHPdLeVnKm+UnstTGHefOnaASSUfOvQWWOvDFF59ujQRSmTTVNZs36rLREiJGQ0j45QPtS8N/gad23uzRvhr78rTUNaNidux7IZoKrjE2bSwVe4ofx+lKhu15LoaouGYp0BRl+SF9AhlJyJ+QMPXB4Y+AKcRSYCnEUl+c2jrWrl4oEWx2Q0waOmqCUQRPqbjq8rK2Zn+aT9DmsQQp9NOmUqTgazJLwRQSS+Gdvx88bh0/MZbCiCmWi06SHyBFlWZ37Dh0/oTEUtAnjgJSY2EpNvGGWHdlie+xisIbPrO/fWCU/cQSpLi0tvrZgec5bSwVe4pfoFniO5Z6kyQ/DOyF5EeJs2u9nt8Hx04TpBBL7TlwYPfHF3P8/Dr5LePTyYMtPuJTTV/byhEL2YKYghTf0ZeaFnCeMkvBGH6W8lsmnmMp0iee87IUJuylzFl0Sn2w49ARxlJbSEV//4tT+0dnKSoUQd1ObLa18XQ7+S096rvEFWW12rDfxhSkuLTUssCgTGYp3LNwTl64ZWFv74xaiIHyN7755o2MpV78rRhM3bVh7fr1j9FgqR0fHBFjqS0nX2OO3wt/vLlZvL7AWRB5ppNToYhbEDpFR4sIa8WW9lFoKrYgxXeUBdKUzFK4mWFZKl5rTyCWYizlq+jCgimCFAq6nBFjqS17joss9cMRE4smYhYbmgaKdPJJRBODWGJ/X21IP6oIvdiCFJdW2dfiF1KmjaViUfEL/KmMV5a6cQRLrduwYf369eT5bfzgg3NQ/L5ALAWW+hiO38+DWMqnk1+3DJODTjagcDda5s+TWDLw1sSWiI4z4xfUV/qjKZmlYJKwLBWnOX6EqDfvvhHyxItvU8cU6RPk+ZHjB0wdPkP9UsRSB944tf8pP0stv4zmKKQE2GWTFDoFo4Z9SmxtXx2OpmKMpbhEzH/jo6lpYylZ8QvzCE36ojnviCyFYGrvK79lNZzRMQUZHZiiIb1Inj2BfqktJ48zlnrqn8nxowTYS2jeJ8yku2TSTzHoADXzFoarexBrkOJb5rf5fmhklsItDMtScRpLIZKif6g4+6LUMUWS3zYGKbDUmSOniaU2v3b8wDNgqT/+3fJLWT75//5f/kl1gx76yf2QmNq+Ijjdhx0v1iDFZbb5xUmZpURI+euWSc9I3MZSb5LnRyOmXvm9JPmJmNqxg9KRTpw+doqyJ3Z/8vH5U2c3nf2a6eTLElO/O7nYGW3v5ZXzfT///nViDlJcc9s8b2wpsxRulJ+ldE6dNNg3Pvul/u2Gvf9F0RRVdJFYioKpu7ahIZQ68d6JM+e/PPLx+SOHT/35z1/+93//95XXiPnkgSK6/9Gegnc188J098YepLgWn5AybSwVi4qfwjGUbc/tZIFmfLIU97OfM5ZiI6b8LAVI7duxjxCFCkkAE2tfnjp0x1+uRyxFbdogldbaP9Lzi0FIlaeuEC0lZ6KTHSSW4q3mBHuFOrtAWjbCGZRsNpNf/u36vYQpBqkXf08jptgwRKKpfcRS7+0ETX355alTx746//zZ/X7F7/LpuuqahSHjkXAiMQgprmahNLx32lgqBhW/zuqExVyBXZ1DNBWnLAWaYvIE5kJ85fegKSo/Acfvrm37tm3c996J93bu3HkGpWa/ePb99x999ezen4zo6p1yZDXX94/Q0WMRUs1l0lgUOZYS4UN1/HIMVqSUlaiHqV5mfMZSHPcfRFPEUk+9ApYimsJgeYqm9sHxo1hq51tntmzZfPL4I0ePHj/5j9MPqcx584LHI+HmxCSkVs0T6VRmKRFSVHsi3UB1/LrjufYErg80BZ7yshTLRSea2gdMAVIgKUBq8+bjxw88+ujRWGCp5NqyFaE0FYuQSlzdt5RFfTJLiZCiCklDUh2/wfgtOoaL/Y8bniNIYfaOFzG8gzw/H03to1gKmAKkTh4/+ujR48djgKW45oWrQmkqFiHFrVy1itHUtLFU7Cl+vjp+cVwaE5DifvZDxlIEKdYxxRC1bh+iqJ0slNoistSzR+85+mIMxFKY16JvRUjfVExCKnFpGSuTKbOUn6W81War59KyuMzxI0hxoCly/BhLSZLfuifPHTl/5NyZEztPHzt/kBy/3ccfff/Vo7HAUnxzW70/g45dQUxCirtcLJY0bSwVe4qfIs9MBZy7B+O4Jjp7IP/lh0ye2PvK06ApBFNEU0+e+vTcuUM7d547/OWXDFLH7yHPLxYgxSUP9LUG01RsQkqztK8VUZ/MUnjKpH6pXJMDH/RmUfGLyxw/ghSffP1eSp/Y+8qLbMLedx8EpnYdPgKN4sTOc4eOfbkbgh9iqXsefTgmWIobSVOxCSlEfVTTT2YpEVLUreuyGHW8M89kjed+KVyulvLR4fgBUiJLAVJPnjqy7vHHH0c8dQQsdXDPcYjokPxigqU47UBZcOXxGIUUt4JoSmYpEVLUL6UbtgwXGy1VLHvif8QtS3H8f1z/c2KpF198GxVdMK/8gw8++eSpU0eOHNp5YufjR748tB2C3+574Pk9GhuQop//INEvViFVTtHUtLFUjCl+//QPS5YsqRkym5X2FLxbkvlP8QspjpvzQ5In9uy6vMgAACAASURBVD79NJP8KJjahRSkY3/dBZo68uXu7cRSDxNL/W76u3rxk4eSru1BNBWrkOKW9qVqZZYSWerb/07tku9f8u1L2Lt//zYgFdrDyO5uHPzh/+NnP2cs5dUnwFNw/OD57SSW2r1nz0mxqzdWWCqUpmIVUnwaoqlpY6lYUvwwo7zYbrv11lult3i5wjsCJg5QFHIJ//LD58BSLz4NfeIXmL/jwQchTwBS+x4HpE7t3n7y5IHjj8YSS1Hl8QDRL1YhxfG1fanNlbNawtdKC7kJvo/a2ribX+qy7/woTPvOpZEZxmehmfAG0RRiqaehTyB/giBFLAWagoj+51Pnd7+GWIowFSOxFMeVz5s/22/XmIUUV75wfi0g5T/VUd7xHAqLZmaWZ6aVN1++fMXY5+oN3F/ILIixxFJcIoVPoS3RV6Aj8DLi5P2c6/fu3fsqQQosRZg6uH3d44DUwXPn/nr+r6+dfPZZAOqNmIml6Oc/gKZiF1LajlmL2oJZSstrtLz2/7b3tTFOXOma9dHlKmPKZTB2Uf4qyvaUXTYXo+3bJGsWX4z8geHOhWVzEYLu9qpBRLLdKELZRAqT2eHHCKI7Gq1YpRNppPDjShBFIOVLexNyScSIyWokWLIoSMxE0WqIFP7kZ6T83fecKru73d3QbTp0Nf0ekO2uOlU+9bieet73Pee8R1y3fjPhz+l9O3ee2rl/766Tv3/xxMGNGw8fPnTgwO4N2wexiFy8CuIzQpMlXcYr/wJB9H+jlh+l1LvvU5V6/9+/vvwBLIL44La7VEqCx/+W3gW6l1LQzq1Hj29Ztw4kaPO2bc+fOnVq//5jx3adfAnosx3os+PAnjO7d+8+enTr8a3HNxzfsOGtDaQsekX5HgbwoU+l3BTxm9nMNfJZginzxPC7d8dxpt79w7tEpoBRl//PV198dRsCfnfdE/GDX2Xvhumgn3spReR0w/GDL+566aUTBw9u3w4c2rGHEgjYA+WtDW91C/27+4IqteqJJ64/d4uoFBmSdPHb62D5UUa9f/3fCaW+un37ne/A8LvhGl8KvKnDe451Q7AuphSzb/vWDRuOH7cZ5GgQYVL3Y5dEs96PL4dKucqXWvUMGeAC1r9860+37pH4xMffXgdOTavU91/cvn37O/CkbrjHl4ILtIf70Ct1M6VIV+/jy/HjW7ce3b37zJ4zOw4cOnR4+64BfkEw/N7+T//cPXDdPyKluliszLu4/pWzxJcilLr47bvX373+h3c/ev/961/DaCRY/Po7mCh/98bdn1zS1UsxOnm8a/q5mlLrdx2dRSnqMW04fpQwCPhz4PD2jRsPnnjp5Mldx/bu3wLBitPP79s3o4dg8fdDny+FlFo8dD9LzfXnfqJRdBLzs02/9//wEaHU5e9vE0rdvXvj/7mLUvsObXUyu7iaUrCG2/HjR7dCDGLHmcOHt28/ePDFF38P/Nmyf//OU6dOn963bdu2zZvXrV/nLNMAsb5Bwn1wU6BK/SzMGPykb756FlTqmzt/u/zxtxdBpj6CkX4fQXgCohM//PDDXcoptwxIsq/y993+XndTav2pF3edPHZsP5SdIEDbNgF/KGmcpRmWrXOmT6Uw4jc4GZbpyPM/gS9F4hMfX7xOIhTAqI++hlnysFDvD99dA0rddZdKQT8qmTwBxd2UYpjN64BEtNg/1bKRyD5d9xVVqouEW95BpmAs+qeXQKYuXgRnylGpm0Skrn13jVDKXSrF7Nq6nQb93E6pp/QL96kU+lJPCfdHfM3518HwI/GJnkxdd1TqGhT3qRQDo1LpWB+kFP1VUaUecXOvzK43Xzl7D7IkXfrw8sWLEKH46Pp1YvgRlbr2g80pl6lUV6aQUg6lfotB9JWhzoLfev51cKb+9jdi+V0HTn1LGHX55leETzalXBVEh8sAmdpC3naQ1ycsmza+tfcJT7HCh6NKrfAPMM/Xg0xBFmfbmSIhiq+hXLr0xW2bUmD7uU2lpGPHyRKeSCn6Y/b5Uhjxm+cWf+qb/v414kw5lt/X3wKjSMIxUKk/Xrv2CXhTbqMUs+3Q7r0SUsq+UVClnjphHvuFGRhCQVLO2pz6+OuLX1+8fAcGT4BK/REo9Yn7KGXLFKoU/Wn7VAojfo+94Z9CBenvXweZAsvvw4+BTh9//fHly5fvP/iOMAo4dfeTv/5mpdeX6gdh36GjWySklEMpHOPXf3+s+N9Upu7/7Q7IFJDq4seXL5JFO2yVAla5T6UYEvTbhJRyKOW6iJ+UHOVo28R6+Wfq4F5x0jymAdKF1+/dvwSDkiCQfplo1Acf3Pniu7vX/vjJHz8By891vhQMSD98dMuAlIJRQSJkBoUZtjBBcD3kiMCI37y3xwv/5e3p5Qp/+T/f/kVvuPu81WdubBj5rJds8KVCNrdm7l0bn9889+v731y688EHH34MtPrwg8uXHj54B3wpoBSQyoWUIjK1b9FBdFGELA8izLD1bNu37fSpfTBNff+WY3v3wjT1gzt+7iB6skZWV1qgePzNyWZjgZ2L29znS7kh4uczp4REBppv8WxycVfx7NW68Jd79+/cIXSC/0Skbj64fffaJ4RQQCnX+VIwF/HQ1l075tEXiZEYGN8NZdOmzZs27dt0eue+U/t3bjm5ZdfJky+e2AiZHg4fhrlJO87ANKU9MFH9+CAq5c3pesw/5nmMVUN2S/5Ic+H7xR9RIxE/rVfJkQe7eCS2xJvQhRE/X0TVWiS3rFUtkpUPnSLNgcvZ0t3Rfe8eQN7n2zZzv1s/i+vOvfYNcOrOB0ArUKs7oFKf3QWVojLlRpVidh09sGcvIA5GnAc4tHkdpEnZvGnf8/t2Pr9z/7G9x07u2vUipErZvnH7IUiVsmPPmT27dwOBjm51Uj281ZtjC2dZavGXNFWtVgsx75y7ZPpUUsMPT2rJ0gLT2/o+cZ1gNl2ntpFoRGB9C8kqtcb7Kj3mT6DUr3o22fJOQSTZl+3y3JIMP58ZDgdDcPE9Snm8GU/SX7HhkrhyuUxETJzwk8cIVxnPMFDD6/cTKDze7m4v5yn7/Y47xsFm7hFw2w110euFl98Db+rynQ9Bq+58cOnOzc8ppVxr+JH5SEdP7ju9c+fp/VuAQDCTghCIMujMngMwT2n30a1HtwKJepPV7YwPNO3DrNmBA1BKVoudTieqCZM0z/f8v6MnZNaAJLJmzL8ftpajpuzslCZVUKuxoqbTVRQXPGTODqDUf37hPzxnl1/+ajkNv390zvrccy/8Yim+lM9M6Xx1YppSklzKxllVy/ug+R4ravLVUFpiuFCVXH49XBhjrJLe5DVY1DepF3lVbdYlptLq6CyvFeBRwzATgVY1YtTJx9VSzr32gKjUJRCpOzc/uPPwwZV3iOVHZMqVKsXsP7rhAKQbOnxoN8mVAhJ09Cjlj51syEmXMos7C/wxCKX4gFcUuZg5lCVP277CifaGkBqDDxahFEe99b56kIA/Guk6WoRSTLktLNmfB0r9dmb5h1/O+ZpBNkgQnpg+LeSIXUJ4wmdGy4ZiZHoqJclqqTqZHVbCIEO5qmnEh4VUkuGaqgVtqxdYH5NT2WqqbYllQygYRl7JjzJ+vsWnslGhAOCV82pAD4S7aA1yRU/9mAuvnH0InLpDGHXnX0Glrlx1KOXK8ASMR9q4YQPkTAEDDor9ugBnwNQDrSKaBdPUwQI8s4OkegCHCmbbwnz1U0vHWlYD1FrTteoYsUU4f0JPjIMfNxobndCNDrlRRhN5IaXHkrIWGNUNo0YPIF8ljRJPDJ7h0hF4chu6TGWJUMrbEVIzfA9S+fHln39FUyP/9m3739u/eO7xxyymxgv/AOmXnXOSb/jV4qfxA6W8vgjvn0EpQdU5plECJU7mCY+SKSUnzaJUUIsDEGJMCYNANaJKXPSrWpxjykUN6lvmJOxNLxmdxVzpz1bnwqtX798ERt2/+fCrm3cePrzyztUfqUy5VKUekTHlOOgV5MjbvWf3nh0HDhwA7mzcuPHEiwd3QTm2BTI97Nz5PMT+tv3X9evBB+tmXFoCsrJqwJMTnq/FKR0kyZuNqCWtFcswCbWdL7ECD0sp1SLKkKCy47JWyFdbihp3/ADRKqiqFizkPFKcV4Ka2qSnAkrJCS1P1t5cWln/wn+fVV4Y4Hrm+8bNfef9Zc+xmq/2rG1EpZisMunp+lKSLKSghielJYBmw+TpktCamVmUUlIEB1g4h0g7IwvDDb8aJnrfFnSGqURY2RF/snt1FM+5Xz8Egbr58MHD7x9C+fy9qyQ+AaafOw0/ktTPLuAxgQLthgCerT+gPCdOvHTiRUj1cGzL3v2QmPIUyfWwaRsJBG6G6epwc6yXoAz8w3RVimkHmxmG0YWwNR4r8X4ppqgpvy8mQKghKae0kHzEKwtK2PIlhJLjdvlLvC7LWaFVYepWAT6P0FsFKNUxWzT4N0izSKQTLgguav3glzX7i8np6D978xLgIirFpIu8LDsRP+JQQrPEpqoDl6rD0Wi0qLS5WZTSQuR7ygUTNAl6tKqsz89PwkFSR4szTCbLl1I0Jkr2rpICeTLfA07dv/ngK5Cph98ApW5c+9HNlDrtaNB2CI2fOHHi5K69x/Zu2XIakqWc3rdpE2R7gKnqZLI6ZB5f5t+gq1JMR4lyTD1fJcE6XelwsaFwEuzAKHmwSk3blxIKID1cWM3RRniNIDFwuGYQ3LBZvpTADjWpDbjMjX36p6MqBY+XaMy0g+hAKRL2FDuEUoLWYqEU9dkqZVMqyTqUMllfhU8RSsVVoBTjlVMmn6Jm9tO/oEG/UQKZ+v7+9w8ffP4ViNT9e1feuWFbfm5Vqc379+7ffxoSjIMGQapxyqD1YPYsN4HmAtpTqaYSyDBytTDeaDRifDQZE7JQ2xMPwiPXQynVvZsMNUHPk87bEQkLLBuI+EVmRPxC/OAqNbeNK7iFqhSTHFYn56OUFh1JksKBL0XcJGakSMITGu2+SxarVKUqKhh+MykFpJoIKLa9vYKXtrSvlt589b3739958OBz4NT9h0Cpq+5WKcZDkqWADbe061yG2l2VEqNTIQ8Eq4IaKUoKKEWeqGJiCh7KDqVoxM9+QJNvHimVaFBYVvP1PkrJcSG8dF9qGS5nuU9BVYr0yGlKV6XUnkr5I3RleSYDQfTOFHiYmZhGKUUNP645BIgymXiw6ZlJKS9xtORquLHcbf15zyeee+3hg++BUf/3c6JS97qWn1tV6udF41Fn76oUhCdqIlAqYoRIyXFAKSA4UKptUwqcEceN6IBnTspoBJwoKLIaTvdRyt9IBe1YBamwioutUkyyPTRVBDsYjLcZhh8XCKasynguBL5lTijF/HFTnVYpSeb5uOzPqi0/BNGnDb9aM+erGMRYXlUFlu+9CnbfgytAqfs2pe6CM+Xa8MTKgeuolKRrJsiKxYed4K4nJnSgVZ6s0jP87H4pxtPpGn4Fnlo2NcWAAPEsw8/PjLMaXXZ95a5sWb7Zx0PED4psTuXpB8kSqEqFNPAxR9qmVi2ZRUCuYQiKWgql2DFgFzX8GC7GQhRUKYDn6dcopbJE+XMsjNzih8eWpX1P8STi+dfuwWqin4FMUUq9d+MGDER3ab/UU8RlzlcBpSAQ7I2Zgg6PzUZYrRHjs+6VYsEiBO3SLHEIPE0SqmIsx+ZxyMKFpgJwm02EhZjUTymIvKv2iL8537iqNiT1GlUTLhe3O92YNO2qk/xZMnyiLOtxPTdBQjHJWCcuc3LNy4x2HK9SPKJ34jHCnUY2R2A90oEhWtyRGBxThz9XVwGZOvsAymdXQKW+Acvvxo0fQabQ8Ov/GWW+ZYSMgqrROQxSjTdTofgk62diilbqJIaVFDAOei1LRmfEHpDk6Rp+zHhRyxsGKxBPu1+lmExIARdrKWVmbHvm56WcY9nrzm0IpRg8ZuZ8Vc8RdmqQCt1t4G6RMvcgunl1vKw//9fPgVGfff75vfuf9pwppFT/r1dpwbBZtWTIwBwoGWuyqlYLzbQU0yYneR7GS5DNZUPVwmOy2YE7Q8xGqJLBpyNtVVNbceJol1PgMthFCpjkYzkMcebFF2kinqPeCjnEW9OJCCxXEWcMtIc1HJfrtGvsPNJmkKkvrgCn7t+zKUWcKaRU/23gKUPQvDE9MFriko2kl5NECKJ75VwFBIgUrj7hFT1Jyjsu2X0MS1x9vEFHYjNifbT3CG5UaIWyv0cR+ySPfBXbgtB2vk0KacrwI2svaWc50ZG7TfbIoYTzLUs6B1YGjT3/2tUH73125d7D+59+eu/fwPKDODpSarG3BlAqTkYwLLb+rHrOUUs62BNVqnZHDgyAYyNDxVlnfKI/LF5RLacx45Gg0u1Ae6KTrsWDwZsiKnUPRIrIFDhTqFKLvw8g4pddfO1lqOmJ8u2hpm1+6lpWWE5KqaYQtTXUE1cjU0ipAX8v6fyrN668c4X4UkCpW1dv/AgZkty0ZNsir0sckxe2VDg524H+pOUvklW0e5+W/9Tzn9ETNRMR6NWBAnOv/Bo7f7VBtlrqZEmFWBuUdCkcmJKXJJ+DfOOzegwk9XvvHaJSUAilwJlyDaVGcrWaf8x+Jj8Gfy7E2rfDPPUk3dTUvO2yeGU6bIyTx5eFYt5KY54v/Pk2eaJVualAOB56blSjsayU0kJNLUTOLMa0eBZVavBf8cJPNz57D5bvpZSilp9bKCWFeJ6PlIqdkUc8MMU6TBeF6FcbZvQtUBp5ITfus11vX5GMV/BmzSVP/Vvg5E93M1Bq3FJhNh/DGYLFLS+lmkdUmo2FK0QmgFKPAP3pXvRq+zYx88qv34H4BFEpIlM/3v3RNZRqC6mAkeIFlnYBzo9sOhomEWxvG2bALVD8pe5oB5iHw8M0HXgMswNPq1jgS57OZqDUkXReqEiMrxVOLzelvCk6ll5WU1IHVeoJftELr1+9co9afvdu3SLxCfdQSrUyGc6XD7bmGZgi2q50usBOwMUDpSqMlJnXmvNHYDqPUyr8pJeplMxHkLRb1Y3vQKmKFFeanBhXdMm7zCrFwfyMDCMaMC8FKIUqNegdIHpeufpeT6VugTPlIkqRsJPUKCp0YpG3YlkyGUOWOTLuHdfjuTIjjiVKEd2qSEApeTzRSdR7MHjGZMs64mEylThfjFkwaJMUQql6XtVX6f1CKMX4I5FGowDj5JadUuUWpJvxmUUvoZQNGL4OgIB06iyEJ2zLj4b8XEYpRtSnyJjLtGHCQIX2KGQqyBeabIRX2o1MUwsGBS2VAV8qUKrywShUpMVLMvQEzWyykVKGgkKVuvSUUqOTAplPsCoLpVQmFYzBqFNx+SmV6SgdJkvyFqFKPdH98eavz3ZV6k/E8nMbpZhRAWbucQFlMmcFBDDiYNxqteO3wlMd7oheMuM1P6hUUDUsKzxEckNAEeNCIVHTWaXj9Xd4NpHrqVTUENp0uPQTYbZCB1NKQcaLQpiHodvLrlJMRcv78yZghSr1RL+weP6vjkp9eevWrR9ds8yA1FZt6wMy7dRgwhGJg5fzmh8oRZmTU4sNpudLBTscRJa1KFSCMl6qkqC6zMNsjFm+VDXCqxVaZTW+2JRKsooQJoHL5falmGRUG+ZJNihUqSe7PS78dNa2+z790pUq1YjAIJyO1uSgNGEKTiNMpi1BXkm+DokgaM+nE0SvRJyB3ZC6iBh3IsypIJTqyVKFD+eFjh1QfzLQVuRoGD1BngedIEl28TNQSowFFY0EQ1Glnuz3hZF+ji8FMuVCw29CAcPPULQqFA1G1TXCERKGSOeHJuw8izTiR4LoPtaelc1kBcjUCKGNNlSfTalJf0uL2dbhk6G2EkeLAdqjPR4pEkPWW4ouXyMseGTBvK7i1DDReVSpJ0OWg5F+tF/qy0+BUnfdsvx11/CTakPFOlCKbZNiEMOvRCjVyE8tSKmOQ6lJEDV5lkpNlmOqPXf9yUBbkaOlcpo8DZx1nKRkT32fvDV+SGEEPcjZEp2UkmgdefJTruUzbD73GrH8/tenX0J8wnXhifJwMCAxTaFj5+KDiF+YeNDMaFEbAZUqkk4rp6u3p1K6liKGnyevyf0q5fWEgtGnO45oNdxbYhlECjhVpgru8dK31dBwd7ZROtWVqT/duuUmlSLGXD0UJBP3LC1ch7+kBqGUooN3HtMg/fFIIULiEP2UqlTJACUpp7aSsDzNTF8KunqTYSXU6/x15y+CrVrtCHjOv0wDFF9CfMJFKiUYcb1ZUFokyyTXVsKdhB6A3JRAKbWd01sCDC8vTyqT8ZjYT6lMU2FDOvRkgRkzh1JSpaTGVmvX1Gq/1dZK+z2nXiXe1Jef/hmcKdf4UoYiaILGdiChP5R0h9VUswDdtGD4GWZVq8ZBaiSZVbSAx9uOEOPfV4TUXrQk4xHoAy7UgDlyaYZKVcmk2ExMGCAbuX1ifEUEFoWAdP5lwihQqVs33NLVyzR8vnHfWJra+HAVXNrnG2vAXxDxG6skYrDwFxQxLVeSktgYJX9lRupd9eFGZHmsQTwCr3+UvNHCyT7ymfM7aSSczfiGCCw7Ak7Qj8Qn3KJSC14jjfiJPZosWG++Hd1Z7at0kN98l4Tb3ImA9MZfQKOoSrmfUnnaL+VOILFViICDwLrf/At4U39eDSpVnsw7HhP+eoiAixG4QGQKKHXL9SrlOYKekItvJGyag4Dnn155+dM/rwpK4W+GCKwKBKQ3frpFDD/3q9SqgBMbiQgw6869jCqF9wEisHwIiG+8ehaC6KhSywcpnmmNI/BPRKZu3XptFabGXOO/HF6+SxFY/8bLZ8GZcn3Ez6XwYbMQgTkIbD738p9uXUWVmgMMbkAEBkNAevM3Z9HwGww7PAoRmAcBiXnj1Rto+M2DDG5CBAZF4Hd/wfDEoNjhcYjAXAQ8F14/i77UXFxwCyIwKAKbf/c6UmpQ8PA4RGAuAuKbL/9v7JeaiwtuQQQGRWDz+Vdf+TuGztDb+PygJ8HjEAFEoIsA99/+8h//bvO2Taf27z2ElOqigu+IwOAIcOd/d+LkSxsPnTmzGyk1OIx4JCLQRSCz83/sPrPn6O49Zw7s627Dd0QAERgcAc/vzxzefnDX3v071w1+EjwSEUAEughIm/bvPL1v8+b1mEWoCwm+IwJPhoCIbHoyAPFoRAARQAQQAUQAEUAEEAFEABFABBABRAARQAQQAUQAEUAEEAFEABFABJ5pBMhStovrnZVGdLLA2QKFy6XCRm/hzUWecoFz4WZEYPUikE5k4wnLxz163SXKELFWjS94oVJMrbJFH90vev16zdddM23BQ3AHIvAsIlDjNU3l1WKs/IirE8fIohdiTMguWAlWv62Vy3QxwYze4lVVaycXrIw7EIFnF4GYFo3r8ZSmPIoBsKat9RhK1QusLVEMM9EKxxPNqtJ8tPI9u5jila1pBGJaNgOr0CaqQX0uA0SvvS0zacqwZnRMAMPP2/OXZuHWKBRHnQ1Ji9h8HYXtLoA7qyL+gQg82wjYlGKYrFCiawR6c/FOHBZjF/36hD+UaoI6Mf5OS0t1EuWY1oFNk7VpLykj651OosGIllHlAx15BisTQgQp9WzfO3h18yLQpdRERKlB4C/d5k1Wa9U8niyfYtmiYMYYRo8IQyofTseEAmsWFFXvnsnbiai8JoT9XIhXFNWMT5PIO6kEZhCsewS+IwLPOgJdSklhJS4xHkMJVEZjEXPME1f4zthIIgguUtIf5vXxCS4WFALjI7pScAIPkq4V5HG/EQw3GhZbqvmSdjSeq+l6ShuuLy42/6wjjNe3xhDoUoppKwGJGS+xDXCaQorOxYcMMPCSYa0GrtakScMTSgocqXKROFakjBZUP7wlw0GLSRfYMboRXhosryqsDnWxIAJrDoEepVJKVpJi2nBlbGwsqwW8cQFMPoZrBhMQkkhVKaVoEJ1L8TkbJrkaJnoldZSQOCPix2T8ViIQ0aY7ftccqnjBaxiBLqUybFCXGF0IChr8E5reuBYDwy3TmSJRvsmZlAp0KVXThqkJGBcCnpmUYmA8hmhVNcJJLIjAGkOgS6mKKfgJpdhsnBQ/Z6tUJksp5aiUlgV0uBmUilJKZYXZKkUhFKNKc41hiZeLCAACDqUyhlIE3yemppygXSaugMXHeAMCMfwcX8o2/HqUks0WCbyLgWBNmqVSBFkpLHTIOxZEYG0hQCklpTsanwM7b4TlLXjz+DhPfCgPslWpkkER3kkVjDgR6gI40yoFcYl4hhFzZmSUGemNnpCsGhnclONV8L+wIAJrDYGYxrYDqZIWqRF5khK8GTWa4dIIBNG1UijOKiHY7tGDrXazYY/x49pdX0rKmWo+EOX5mDiTUnGTjQaGqwKGJ9bazYTXSxCwWjzPVwvZMWfokTUZqZaG415PXAulYE+WDqdNBni+ncyViC3INVkniM545KjKm8NWhmHqw+EJB9F0PAwDcfMxDKI7gODbmkJA5LxezptxPCjQqQxsyIhMBsITnF8esXdImUYjI4kcVbLM9EwQiWvUvRyYiown7fTzwmeRS494PTh2Yk3dSHixj0Mgk8UY+OMwwv2IwBIQyGRpV+8SjsCqiAAi8AgEPLUCBuwegQ/uQgSWiIBUHsPwwhIxw+qIACKACCACiAAigAggAogAIoAIIAKIACKACCACiAAigAggAs8cArmoT2IkURTnT7pM9yzpor217hjABU8rVuK9afVLO3csBgMKu8WXIuPmsSACrkKgXIjAPMIRPdRJWGNcf9M8ZX88FK84+fz6987/t9fMOzu8tVCnk5OTc4b7ZeLd0ezzn2LBraNseEZ3WboUntPiBQ/FHYjA00GgpobguR9TNRWSLhvp2U/9st7SeMjGnM/1xtU+vlVejXUqyaZWrfIaa/VzKtMhWWIGKBOtwgxKSQZP8slgQQRchAAXIBPkmYSQ0hOd0lBgxg0LuY+aimnoVsKIJ3HoYwAAB1BJREFUFOqLb/M0pSw1JcuQfyw/2nf0k1Bqhi5JOc3oOzP+iQisMAI+lqQZA0qR/M01lZ/p4kDqoxZ1ViT/oyc/eUHnnAIO2UxKNYEAjWHF6u523imlPMlZ/O1WyUxvlcr98jZbpZiGyU7X7p4A3xGBlUQgp1JhSmgkU2ylNTQ+ozG+iLJAkiOPP940SIRBGs9WKp1oO0YNQ+lIPBCIJXuGn6USSnkDU06WMshmmyDHSUCpWC4wnKL2ZDLWMUI1Qg2vXhtJTEY7IImenD5mGVGDRjqkMR0OI3kugFJEpSpxo1lrQAKnFG/NaDB+RARWHoH4EF1eICEQSvlLQnf5DdKyhMbSOb1zWsnpEdPkhXyF5KOIspGiwJP5vpLFalVNTSldX8qm1GixWrFPIfnzKh9RC2OZjlCMsAXFBK6NRqumqfFNULo6WwibrKmkkgxnmNFSiQ2y4CyJFquyLSEMdJ9o5YF7sZJZKJWA7p6m1ssmPaeVuAERWAEERGOKPuZBpbweb4fczNPFGArAfS5moMw2wLhsqDLhM4aanBRTtFSlHgsWQDPSRSU05svyU9OUysfj2bwaJ8oCxZtXmr6JWljmskOqPlrPDk16mbFUbWzCimjg0tWLSqlWrxSUnMQ1FbUzMRoiOW/rpWqsPpJVohxRKS+TDkes9EQOBMzTxMxmNrT46hYEvJNT1LRKaJFwu6CFoYuqV6TUlJFhOD0cDkd14NZ0kTj4U/Krww0pFoyCbJRbVZkslkNi2pnEDJUSILOFwsedSfSWSuJ1UjmT6QSzoIpjZnGMEWETw0ByM0IpzQ/kzSrNDNccIkT0q/kRSRdIRkBv0azYKuVjCxDvkOAEYmwoOt0s/IQIrDwC5dSQQym+ZQpsZQajGMamVIhlW8FifXZbufTEkYQKd7aTNSlK+plCWhYIMSs8EbVkqxkJNiltGEgRQyqQJLY0iJ4ulIhJWB7xVaJCllCKJSoZ09oc19Qs+DjWYn1iSgtVKhV/GDKfUZXiDCFlNciZpBpSCmDA4iIEyimN+jngS3GVkDbL7mMmh1IZuP09UrqfUiOdIssLQ9OUCvA1ojSw+MdsSpHwhGSpkOiPFEPozKJUIwyU8lgptqQFISV7l1I5nlCKpgEkGTfF4aACOaUFIZJzfKmRZkTLJ4B9SCmKK764CIEepUjErzyp1exb3m6hrvEkygZOUh+lkikhqicMYX5KcX0RP6YRdgKJ81LKMs2Qnig8ilLCpK4n9ESsbqsUUMkfLwodL1LK/qHw1UUIZLrhCRrxy6nhxozGNYrBDjgscykl88QQrPB9lMoKAVLbL0yHJ4hKQdrMoB2bj2uTc1UqQBM9GzMMP6pSRk+lpIBK4om02BE/8tEfaY0zoi6E7B34igi4BIH4lE5YY/dLlYcV0oPU0Dt28Dymac1RGFBbISol+UNkLQ9SLLU4IpUNpY9SFdW0RFEuDk1TyvCKIqcLRVvtfFU+J4r1kJ+zfSlq+KWEjiTJrYVVirGE/JgoiUkaRIcAx4hVliSfWRiBiN802+ym4SsisMII5PgUoY/dLwUrd5BF2fwtxR5EwcV5oTScGjaD+SQjxYXucNj0sJA3otUZ4QnqS8FaBWY0Wgq3is5FgROVSkWLqunYk56sUI1GW6rlUCpNfKmcyqcM1tT6fCmDhidoqnWvAa0wJksQ3JsoQb+UzBYDRpHEQjJhskoPFkTARQiMsXTZ61opQcTqSIF07spmdcRuIucPlCCLczEEoUAYnpRyGi6NGaVSKhbKlqVchPS1ZkIsubXLnZbZ6owa3Xr+ghmJmC2jQs1HqMAl2KoZrnEZvUgCjcn28ASTqYUjxWwiAEOf0sPDhN8y2+S4bIuMiE1HwxDZKMeGI5GCAV8xEm5zTFkPl0phsspiWcUBSYASFjchwLUFEjnnRonTw0jJusjAErxO0Bs2iMmKv5ERoYp3eFoRJOj/9cBMKonJ2Ady9sK8YjkNvcKeLoMkD+kmpkc71yx6R70eOJmYITak5CGfSS1RpJ/SDbq5Do0p18lZpLK9hZyINAKOgK0i/EkTRNc06r05J8c3RMANCOToUKCZLann8xB8mFNqvBMBn7NnxTaIbZ72qq1YA/CLEYG5CDQKph076O2yimSpqf4iGtFG/7aV/tsXwSmIK/0b4PfPRSDX7KNUukKNwL6aYmViHqL1VXrKf/pCsuva9JQhwK9zIQLSkmbBu+oCPKu36a7CERuDCCACiAAigAggAogAIoAIIAKIACKACCACiAAigAggAogAIoAIIAKIACKACCACiAAigAggAogAIoAIIAKIACKACCACiAAigAggAogAIoAIIAKIACKACCACiAAigAggAogAIoAIIAKIACKACCACiAAigAggAogAIoAIIAKIACKACCACiAAigAggAogAIoAIIAKIACKACCACiAAigAggAogAIoAIIAKIACKACCACiAAigAggAogAIoAIIAKIACKACCACiAAi8GgE/j/J2Xf1SKUj5QAAAABJRU5ErkJggg==)"
      ]
    },
    {
      "cell_type": "code",
      "metadata": {
        "id": "uYUVV2wf2z8H",
        "outputId": "3b7fc0a1-a0eb-432f-8eff-8f8d9c466d7f",
        "colab": {
          "base_uri": "https://localhost:8080/"
        }
      },
      "source": [
        "# Define model\n",
        "model = keras.Sequential()\n",
        "model.add(layers.Convolution2D(16, (3, 3),\n",
        "                        padding='same',\n",
        "                        input_shape=x_train.shape[1:], activation='relu'))\n",
        "model.add(layers.MaxPooling2D(pool_size=(2, 2)))\n",
        "model.add(layers.Convolution2D(32, (3, 3), padding='same', activation= 'relu'))\n",
        "model.add(layers.MaxPooling2D(pool_size=(2, 2)))\n",
        "model.add(layers.Convolution2D(64, (3, 3), padding='same', activation= 'relu'))\n",
        "model.add(layers.MaxPooling2D(pool_size =(2,2)))\n",
        "model.add(layers.Flatten())\n",
        "model.add(layers.Dense(128, activation='relu'))\n",
        "model.add(layers.Dense(3, activation='softmax')) \n",
        "# Train model\n",
        "adam = tf.keras.optimizers.Adam()\n",
        "model.compile(loss='categorical_crossentropy',\n",
        "              optimizer=adam,\n",
        "              metrics=['top_k_categorical_accuracy'])\n",
        "print(model.summary())"
      ],
      "execution_count": 37,
      "outputs": [
        {
          "output_type": "stream",
          "text": [
            "Model: \"sequential\"\n",
            "_________________________________________________________________\n",
            "Layer (type)                 Output Shape              Param #   \n",
            "=================================================================\n",
            "conv2d (Conv2D)              (None, 28, 28, 16)        160       \n",
            "_________________________________________________________________\n",
            "max_pooling2d (MaxPooling2D) (None, 14, 14, 16)        0         \n",
            "_________________________________________________________________\n",
            "conv2d_1 (Conv2D)            (None, 14, 14, 32)        4640      \n",
            "_________________________________________________________________\n",
            "max_pooling2d_1 (MaxPooling2 (None, 7, 7, 32)          0         \n",
            "_________________________________________________________________\n",
            "conv2d_2 (Conv2D)            (None, 7, 7, 64)          18496     \n",
            "_________________________________________________________________\n",
            "max_pooling2d_2 (MaxPooling2 (None, 3, 3, 64)          0         \n",
            "_________________________________________________________________\n",
            "flatten (Flatten)            (None, 576)               0         \n",
            "_________________________________________________________________\n",
            "dense (Dense)                (None, 128)               73856     \n",
            "_________________________________________________________________\n",
            "dense_1 (Dense)              (None, 3)                 387       \n",
            "=================================================================\n",
            "Total params: 97,539\n",
            "Trainable params: 97,539\n",
            "Non-trainable params: 0\n",
            "_________________________________________________________________\n",
            "None\n"
          ],
          "name": "stdout"
        }
      ]
    },
    {
      "cell_type": "markdown",
      "metadata": {
        "id": "_YRSRkOyBP1P"
      },
      "source": [
        "# Training "
      ]
    },
    {
      "cell_type": "code",
      "metadata": {
        "id": "7OMEJ7kF3lsP",
        "outputId": "9108afb4-0c7a-4165-e289-a17e8cc3224c",
        "colab": {
          "base_uri": "https://localhost:8080/"
        }
      },
      "source": [
        "model.fit(x = x_train, y = y_train, validation_split=0.1, batch_size = 256, verbose=2, epochs=15)"
      ],
      "execution_count": 38,
      "outputs": [
        {
          "output_type": "stream",
          "text": [
            "Epoch 1/15\n",
            "43/43 - 31s - loss: 0.4536 - top_k_categorical_accuracy: 1.0000 - val_loss: 0.2167 - val_top_k_categorical_accuracy: 1.0000\n",
            "Epoch 2/15\n",
            "43/43 - 0s - loss: 0.2138 - top_k_categorical_accuracy: 1.0000 - val_loss: 0.1656 - val_top_k_categorical_accuracy: 1.0000\n",
            "Epoch 3/15\n",
            "43/43 - 0s - loss: 0.1795 - top_k_categorical_accuracy: 1.0000 - val_loss: 0.1528 - val_top_k_categorical_accuracy: 1.0000\n",
            "Epoch 4/15\n",
            "43/43 - 0s - loss: 0.1577 - top_k_categorical_accuracy: 1.0000 - val_loss: 0.1424 - val_top_k_categorical_accuracy: 1.0000\n",
            "Epoch 5/15\n",
            "43/43 - 0s - loss: 0.1417 - top_k_categorical_accuracy: 1.0000 - val_loss: 0.1339 - val_top_k_categorical_accuracy: 1.0000\n",
            "Epoch 6/15\n",
            "43/43 - 0s - loss: 0.1298 - top_k_categorical_accuracy: 1.0000 - val_loss: 0.1420 - val_top_k_categorical_accuracy: 1.0000\n",
            "Epoch 7/15\n",
            "43/43 - 0s - loss: 0.1211 - top_k_categorical_accuracy: 1.0000 - val_loss: 0.1317 - val_top_k_categorical_accuracy: 1.0000\n",
            "Epoch 8/15\n",
            "43/43 - 0s - loss: 0.1053 - top_k_categorical_accuracy: 1.0000 - val_loss: 0.1183 - val_top_k_categorical_accuracy: 1.0000\n",
            "Epoch 9/15\n",
            "43/43 - 0s - loss: 0.1003 - top_k_categorical_accuracy: 1.0000 - val_loss: 0.1470 - val_top_k_categorical_accuracy: 1.0000\n",
            "Epoch 10/15\n",
            "43/43 - 0s - loss: 0.1040 - top_k_categorical_accuracy: 1.0000 - val_loss: 0.1204 - val_top_k_categorical_accuracy: 1.0000\n",
            "Epoch 11/15\n",
            "43/43 - 0s - loss: 0.0797 - top_k_categorical_accuracy: 1.0000 - val_loss: 0.1311 - val_top_k_categorical_accuracy: 1.0000\n",
            "Epoch 12/15\n",
            "43/43 - 0s - loss: 0.0782 - top_k_categorical_accuracy: 1.0000 - val_loss: 0.1299 - val_top_k_categorical_accuracy: 1.0000\n",
            "Epoch 13/15\n",
            "43/43 - 0s - loss: 0.0703 - top_k_categorical_accuracy: 1.0000 - val_loss: 0.1326 - val_top_k_categorical_accuracy: 1.0000\n",
            "Epoch 14/15\n",
            "43/43 - 0s - loss: 0.0659 - top_k_categorical_accuracy: 1.0000 - val_loss: 0.1274 - val_top_k_categorical_accuracy: 1.0000\n",
            "Epoch 15/15\n",
            "43/43 - 0s - loss: 0.0547 - top_k_categorical_accuracy: 1.0000 - val_loss: 0.1268 - val_top_k_categorical_accuracy: 1.0000\n"
          ],
          "name": "stdout"
        },
        {
          "output_type": "execute_result",
          "data": {
            "text/plain": [
              "<tensorflow.python.keras.callbacks.History at 0x7ff685dbcd50>"
            ]
          },
          "metadata": {
            "tags": []
          },
          "execution_count": 38
        }
      ]
    },
    {
      "cell_type": "markdown",
      "metadata": {
        "id": "d2KztY7qEn9_"
      },
      "source": [
        "# Testing "
      ]
    },
    {
      "cell_type": "code",
      "metadata": {
        "id": "ssaZczS7DxeA",
        "colab": {
          "base_uri": "https://localhost:8080/"
        },
        "outputId": "a785de7c-64bf-4c78-9d2b-91bb47000e7f"
      },
      "source": [
        "score = model.evaluate(x_test, y_test, verbose=0)\n",
        "print('Test accuarcy: {:0.2f}%'.format(score[1] * 100))"
      ],
      "execution_count": 39,
      "outputs": [
        {
          "output_type": "stream",
          "text": [
            "Test accuarcy: 100.00%\n"
          ],
          "name": "stdout"
        }
      ]
    },
    {
      "cell_type": "markdown",
      "metadata": {
        "id": "9xBM_w0VBbNr"
      },
      "source": [
        "# Inference "
      ]
    },
    {
      "cell_type": "code",
      "metadata": {
        "id": "nH3JfoiYHdpk",
        "outputId": "d3255360-a051-4cc8-fd5e-b1e1c99db9ef",
        "colab": {
          "base_uri": "https://localhost:8080/",
          "height": 283
        }
      },
      "source": [
        "import matplotlib.pyplot as plt\n",
        "from random import randint\n",
        "%matplotlib inline  \n",
        "idx = randint(0, len(x_test))\n",
        "img = x_test[idx]\n",
        "plt.imshow(img.squeeze()) \n",
        "pred = model.predict(np.expand_dims(img, axis=0))[0]\n",
        "ind = (-pred).argsort()[:5]\n",
        "latex = [class_names[x] for x in ind]\n",
        "print(latex[0])"
      ],
      "execution_count": 40,
      "outputs": [
        {
          "output_type": "stream",
          "text": [
            "strawberry\n"
          ],
          "name": "stdout"
        },
        {
          "output_type": "display_data",
          "data": {
            "image/png": "[encoded data removed]",
            "text/plain": [
              "<Figure size 432x288 with 1 Axes>"
            ]
          },
          "metadata": {
            "tags": [],
            "needs_background": "light"
          }
        }
      ]
    },
    {
      "cell_type": "markdown",
      "metadata": {
        "id": "YPp5D82YBhM-"
      },
      "source": [
        "# Store the classes "
      ]
    },
    {
      "cell_type": "code",
      "metadata": {
        "id": "NoFI1msFYpCN"
      },
      "source": [
        "with open('class_names.txt', 'w') as file_handler:\n",
        "    for item in class_names:\n",
        "        file_handler.write(\"{}\\n\".format(item))"
      ],
      "execution_count": 41,
      "outputs": []
    },
    {
      "cell_type": "markdown",
      "metadata": {
        "id": "mfJ6dpaDBpRx"
      },
      "source": [
        "# Install TensorFlowJS"
      ]
    },
    {
      "cell_type": "code",
      "metadata": {
        "id": "hJJDfp9mY9Xh",
        "outputId": "cd2ae6e1-778f-4089-b5f8-080fe70f32fa",
        "colab": {
          "base_uri": "https://localhost:8080/"
        }
      },
      "source": [
        "!pip install tensorflowjs "
      ],
      "execution_count": 42,
      "outputs": [
        {
          "output_type": "stream",
          "text": [
            "Collecting tensorflowjs\n",
            "\u001b[?25l  Downloading https://files.pythonhosted.org/packages/28/5a/2497b3ba86f5f1c2c7539e0bc5d957146a5ed71acfb6c66f644974af4309/tensorflowjs-3.6.0-py3-none-any.whl (63kB)\n",
            "\u001b[K     |████████████████████████████████| 71kB 5.3MB/s \n",
            "\u001b[?25hCollecting tensorflow-hub<0.10,>=0.7.0\n",
            "\u001b[?25l  Downloading https://files.pythonhosted.org/packages/ac/83/a7df82744a794107641dad1decaad017d82e25f0e1f761ac9204829eef96/tensorflow_hub-0.9.0-py2.py3-none-any.whl (103kB)\n",
            "\u001b[K     |████████████████████████████████| 112kB 16.7MB/s \n",
            "\u001b[?25hRequirement already satisfied: six<2,>=1.12.0 in /usr/local/lib/python3.7/dist-packages (from tensorflowjs) (1.15.0)\n",
            "Requirement already satisfied: tensorflow<3,>=2.1.0 in /usr/local/lib/python3.7/dist-packages (from tensorflowjs) (2.4.1)\n",
            "Requirement already satisfied: numpy>=1.12.0 in /usr/local/lib/python3.7/dist-packages (from tensorflow-hub<0.10,>=0.7.0->tensorflowjs) (1.19.5)\n",
            "Requirement already satisfied: protobuf>=3.8.0 in /usr/local/lib/python3.7/dist-packages (from tensorflow-hub<0.10,>=0.7.0->tensorflowjs) (3.12.4)\n",
            "Requirement already satisfied: keras-preprocessing~=1.1.2 in /usr/local/lib/python3.7/dist-packages (from tensorflow<3,>=2.1.0->tensorflowjs) (1.1.2)\n",
            "Requirement already satisfied: typing-extensions~=3.7.4 in /usr/local/lib/python3.7/dist-packages (from tensorflow<3,>=2.1.0->tensorflowjs) (3.7.4.3)\n",
            "Requirement already satisfied: flatbuffers~=1.12.0 in /usr/local/lib/python3.7/dist-packages (from tensorflow<3,>=2.1.0->tensorflowjs) (1.12)\n",
            "Requirement already satisfied: opt-einsum~=3.3.0 in /usr/local/lib/python3.7/dist-packages (from tensorflow<3,>=2.1.0->tensorflowjs) (3.3.0)\n",
            "Requirement already satisfied: wheel~=0.35 in /usr/local/lib/python3.7/dist-packages (from tensorflow<3,>=2.1.0->tensorflowjs) (0.36.2)\n",
            "Requirement already satisfied: wrapt~=1.12.1 in /usr/local/lib/python3.7/dist-packages (from tensorflow<3,>=2.1.0->tensorflowjs) (1.12.1)\n",
            "Requirement already satisfied: termcolor~=1.1.0 in /usr/local/lib/python3.7/dist-packages (from tensorflow<3,>=2.1.0->tensorflowjs) (1.1.0)\n",
            "Requirement already satisfied: grpcio~=1.32.0 in /usr/local/lib/python3.7/dist-packages (from tensorflow<3,>=2.1.0->tensorflowjs) (1.32.0)\n",
            "Requirement already satisfied: tensorflow-estimator<2.5.0,>=2.4.0 in /usr/local/lib/python3.7/dist-packages (from tensorflow<3,>=2.1.0->tensorflowjs) (2.4.0)\n",
            "Requirement already satisfied: tensorboard~=2.4 in /usr/local/lib/python3.7/dist-packages (from tensorflow<3,>=2.1.0->tensorflowjs) (2.4.1)\n",
            "Requirement already satisfied: astunparse~=1.6.3 in /usr/local/lib/python3.7/dist-packages (from tensorflow<3,>=2.1.0->tensorflowjs) (1.6.3)\n",
            "Requirement already satisfied: absl-py~=0.10 in /usr/local/lib/python3.7/dist-packages (from tensorflow<3,>=2.1.0->tensorflowjs) (0.12.0)\n",
            "Requirement already satisfied: google-pasta~=0.2 in /usr/local/lib/python3.7/dist-packages (from tensorflow<3,>=2.1.0->tensorflowjs) (0.2.0)\n",
            "Requirement already satisfied: gast==0.3.3 in /usr/local/lib/python3.7/dist-packages (from tensorflow<3,>=2.1.0->tensorflowjs) (0.3.3)\n",
            "Requirement already satisfied: h5py~=2.10.0 in /usr/local/lib/python3.7/dist-packages (from tensorflow<3,>=2.1.0->tensorflowjs) (2.10.0)\n",
            "Requirement already satisfied: setuptools in /usr/local/lib/python3.7/dist-packages (from protobuf>=3.8.0->tensorflow-hub<0.10,>=0.7.0->tensorflowjs) (56.1.0)\n",
            "Requirement already satisfied: markdown>=2.6.8 in /usr/local/lib/python3.7/dist-packages (from tensorboard~=2.4->tensorflow<3,>=2.1.0->tensorflowjs) (3.3.4)\n",
            "Requirement already satisfied: werkzeug>=0.11.15 in /usr/local/lib/python3.7/dist-packages (from tensorboard~=2.4->tensorflow<3,>=2.1.0->tensorflowjs) (2.0.0)\n",
            "Requirement already satisfied: tensorboard-plugin-wit>=1.6.0 in /usr/local/lib/python3.7/dist-packages (from tensorboard~=2.4->tensorflow<3,>=2.1.0->tensorflowjs) (1.8.0)\n",
            "Requirement already satisfied: google-auth<2,>=1.6.3 in /usr/local/lib/python3.7/dist-packages (from tensorboard~=2.4->tensorflow<3,>=2.1.0->tensorflowjs) (1.30.0)\n",
            "Requirement already satisfied: google-auth-oauthlib<0.5,>=0.4.1 in /usr/local/lib/python3.7/dist-packages (from tensorboard~=2.4->tensorflow<3,>=2.1.0->tensorflowjs) (0.4.4)\n",
            "Requirement already satisfied: requests<3,>=2.21.0 in /usr/local/lib/python3.7/dist-packages (from tensorboard~=2.4->tensorflow<3,>=2.1.0->tensorflowjs) (2.23.0)\n",
            "Requirement already satisfied: importlib-metadata; python_version < \"3.8\" in /usr/local/lib/python3.7/dist-packages (from markdown>=2.6.8->tensorboard~=2.4->tensorflow<3,>=2.1.0->tensorflowjs) (4.0.1)\n",
            "Requirement already satisfied: rsa<5,>=3.1.4; python_version >= \"3.6\" in /usr/local/lib/python3.7/dist-packages (from google-auth<2,>=1.6.3->tensorboard~=2.4->tensorflow<3,>=2.1.0->tensorflowjs) (4.7.2)\n",
            "Requirement already satisfied: pyasn1-modules>=0.2.1 in /usr/local/lib/python3.7/dist-packages (from google-auth<2,>=1.6.3->tensorboard~=2.4->tensorflow<3,>=2.1.0->tensorflowjs) (0.2.8)\n",
            "Requirement already satisfied: cachetools<5.0,>=2.0.0 in /usr/local/lib/python3.7/dist-packages (from google-auth<2,>=1.6.3->tensorboard~=2.4->tensorflow<3,>=2.1.0->tensorflowjs) (4.2.2)\n",
            "Requirement already satisfied: requests-oauthlib>=0.7.0 in /usr/local/lib/python3.7/dist-packages (from google-auth-oauthlib<0.5,>=0.4.1->tensorboard~=2.4->tensorflow<3,>=2.1.0->tensorflowjs) (1.3.0)\n",
            "Requirement already satisfied: chardet<4,>=3.0.2 in /usr/local/lib/python3.7/dist-packages (from requests<3,>=2.21.0->tensorboard~=2.4->tensorflow<3,>=2.1.0->tensorflowjs) (3.0.4)\n",
            "Requirement already satisfied: certifi>=2017.4.17 in /usr/local/lib/python3.7/dist-packages (from requests<3,>=2.21.0->tensorboard~=2.4->tensorflow<3,>=2.1.0->tensorflowjs) (2020.12.5)\n",
            "Requirement already satisfied: idna<3,>=2.5 in /usr/local/lib/python3.7/dist-packages (from requests<3,>=2.21.0->tensorboard~=2.4->tensorflow<3,>=2.1.0->tensorflowjs) (2.10)\n",
            "Requirement already satisfied: urllib3!=1.25.0,!=1.25.1,<1.26,>=1.21.1 in /usr/local/lib/python3.7/dist-packages (from requests<3,>=2.21.0->tensorboard~=2.4->tensorflow<3,>=2.1.0->tensorflowjs) (1.24.3)\n",
            "Requirement already satisfied: zipp>=0.5 in /usr/local/lib/python3.7/dist-packages (from importlib-metadata; python_version < \"3.8\"->markdown>=2.6.8->tensorboard~=2.4->tensorflow<3,>=2.1.0->tensorflowjs) (3.4.1)\n",
            "Requirement already satisfied: pyasn1>=0.1.3 in /usr/local/lib/python3.7/dist-packages (from rsa<5,>=3.1.4; python_version >= \"3.6\"->google-auth<2,>=1.6.3->tensorboard~=2.4->tensorflow<3,>=2.1.0->tensorflowjs) (0.4.8)\n",
            "Requirement already satisfied: oauthlib>=3.0.0 in /usr/local/lib/python3.7/dist-packages (from requests-oauthlib>=0.7.0->google-auth-oauthlib<0.5,>=0.4.1->tensorboard~=2.4->tensorflow<3,>=2.1.0->tensorflowjs) (3.1.0)\n",
            "Installing collected packages: tensorflow-hub, tensorflowjs\n",
            "  Found existing installation: tensorflow-hub 0.12.0\n",
            "    Uninstalling tensorflow-hub-0.12.0:\n",
            "      Successfully uninstalled tensorflow-hub-0.12.0\n",
            "Successfully installed tensorflow-hub-0.9.0 tensorflowjs-3.6.0\n"
          ],
          "name": "stdout"
        }
      ]
    },
    {
      "cell_type": "markdown",
      "metadata": {
        "id": "-oBl0ZKVB00d"
      },
      "source": [
        "# Save and Convert "
      ]
    },
    {
      "cell_type": "code",
      "metadata": {
        "id": "XVICB3TbZGb2"
      },
      "source": [
        "model.save('keras.h5')"
      ],
      "execution_count": 43,
      "outputs": []
    },
    {
      "cell_type": "code",
      "metadata": {
        "id": "bTWWlGdWZOvs",
        "outputId": "24564305-cf31-48b3-e8a9-96c514b28b62",
        "colab": {
          "base_uri": "https://localhost:8080/"
        }
      },
      "source": [
        "!mkdir model\n",
        "!tensorflowjs_converter --input_format keras keras.h5 model/"
      ],
      "execution_count": 44,
      "outputs": [
        {
          "output_type": "stream",
          "text": [
            "2021-05-20 11:46:00.510200: I tensorflow/stream_executor/platform/default/dso_loader.cc:49] Successfully opened dynamic library libcudart.so.11.0\n"
          ],
          "name": "stdout"
        }
      ]
    },
    {
      "cell_type": "markdown",
      "metadata": {
        "id": "JKYxE2MEB6LV"
      },
      "source": [
        "# Zip and Download "
      ]
    },
    {
      "cell_type": "code",
      "metadata": {
        "id": "865-t79uaB63"
      },
      "source": [
        "!cp class_names.txt model/class_names.txt"
      ],
      "execution_count": 45,
      "outputs": []
    },
    {
      "cell_type": "code",
      "metadata": {
        "id": "GLC-MzW8ZXTa",
        "outputId": "371e04a9-c70b-4a14-f2a5-4776ecf3638c",
        "colab": {
          "base_uri": "https://localhost:8080/"
        }
      },
      "source": [
        "!zip -r model.zip model "
      ],
      "execution_count": 46,
      "outputs": [
        {
          "output_type": "stream",
          "text": [
            "  adding: model/ (stored 0%)\n",
            "  adding: model/class_names.txt (stored 0%)\n",
            "  adding: model/model.json (deflated 82%)\n",
            "  adding: model/group1-shard1of1.bin (deflated 8%)\n"
          ],
          "name": "stdout"
        }
      ]
    },
    {
      "cell_type": "code",
      "metadata": {
        "id": "M5lj61e1mEP9"
      },
      "source": [
        ""
      ],
      "execution_count": null,
      "outputs": []
    }
  ]
}